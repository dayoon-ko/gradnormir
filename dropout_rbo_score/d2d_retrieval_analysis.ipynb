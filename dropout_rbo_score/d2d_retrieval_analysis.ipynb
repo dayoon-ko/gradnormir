{
 "cells": [
  {
   "cell_type": "code",
   "execution_count": 28,
   "id": "94839bd3-4b04-49af-a1bd-10d8376c8d6c",
   "metadata": {},
   "outputs": [],
   "source": [
    "import json\n",
    "\n",
    "with open('./trec-covid-suc-d2d-retrieval.jsonl', 'r') as f:\n",
    "    suc_js = [json.loads(file) for file in f.readlines()]\n",
    "\n",
    "with open('./trec-covid-fail-d2d-retrieval.jsonl', 'r') as f:\n",
    "    fail_js = [json.loads(file) for file in f.readlines()]"
   ]
  },
  {
   "cell_type": "code",
   "execution_count": 31,
   "id": "7b5bbe5e-93f3-4163-b476-0e2cf151477e",
   "metadata": {},
   "outputs": [
    {
     "data": {
      "text/plain": [
       "380"
      ]
     },
     "execution_count": 31,
     "metadata": {},
     "output_type": "execute_result"
    }
   ],
   "source": [
    "len(fail_js)"
   ]
  },
  {
   "cell_type": "code",
   "execution_count": 32,
   "id": "8e73d665-b865-4a37-b245-a28f0377ddb0",
   "metadata": {},
   "outputs": [],
   "source": [
    "from itertools import combinations\n",
    "\n",
    "def generate_pairs(n_aug, n_sample):\n",
    "    # total items: n_aug * n_sample\n",
    "    total_items = n_aug * n_sample\n",
    "    \n",
    "    # save all pairs\n",
    "    all_pairs = []\n",
    "    \n",
    "    for i in range(0, total_items, n_aug):\n",
    "        group = list(range(i, i + n_aug))\n",
    "        pairs = list(combinations(group, 2))\n",
    "        all_pairs.extend(pairs)\n",
    "    \n",
    "    return all_pairs"
   ]
  },
  {
   "cell_type": "code",
   "execution_count": 33,
   "id": "89ebd164-cf79-47ee-ae7b-dc841d46b0d0",
   "metadata": {},
   "outputs": [],
   "source": [
    "from scipy.stats import spearmanr\n",
    "from scipy.stats import kendalltau\n",
    "\n",
    "def rbo(list1, list2, p=0.9):\n",
    "    overlap = 0\n",
    "    rbo_score = 0\n",
    "    weight = 1\n",
    "    depth = min(len(list1), len(list2))\n",
    "    \n",
    "    for d in range(depth):\n",
    "        if list1[d] == list2[d]:\n",
    "            overlap += 1\n",
    "        rbo_score += overlap / (d + 1) * (p ** d)\n",
    "        weight *= p\n",
    "\n",
    "    return (1 - p) * rbo_score\n",
    "\n",
    "def spearman_rank_correlation(list1, list2):\n",
    "    return spearmanr(list1, list2).correlation\n",
    "\n",
    "# Example function to calculate Kendall's Tau with ties\n",
    "def kendalls_tau_with_ties(list1, list2):\n",
    "    tau, p_value = kendalltau(list1, list2)\n",
    "    return tau\n",
    "\n",
    "n_aug = 10\n",
    "\n",
    "def get_rbo_score(js):\n",
    "    total_list = [[ret['seq_num'] for ret in js[i]['retrieval']] for i in range(len(js))]\n",
    "    rbo_scores = []\n",
    "    assert len(total_list) % n_aug == 0\n",
    "    n_sample = len(total_list) // n_aug\n",
    "    \n",
    "    pairs = generate_pairs(n_aug, n_sample)\n",
    "    for i, j in pairs:\n",
    "        rbo_scores.append(rbo(total_list[i], total_list[j]))\n",
    "\n",
    "    mean_scores = []\n",
    "    \n",
    "    n_n1_2 = n_aug * (n_aug-1) // 2\n",
    "\n",
    "    for i in range(0, len(pairs), n_n1_2):\n",
    "        mean_scores.append(sum(rbo_scores[i:i+n_n1_2]) / n_n1_2)\n",
    "\n",
    "    return mean_scores\n",
    "\n",
    "def get_spearman_score(js):\n",
    "    total_list = [[ret['seq_num'] for ret in js[i]['retrieval']] for i in range(len(js))]\n",
    "    spearman_scores = []\n",
    "    pairs = generate_pairs(n_aug, n_sample)\n",
    "    for i, j in pairs:\n",
    "        spearman_scores.append(spearman_rank_correlation(total_list[i], total_list[j]))\n",
    "\n",
    "    print(sum(spearman_scores) / len(spearman_scores))\n",
    "\n",
    "def get_tau_score(js):\n",
    "    total_list = [[ret['seq_num'] for ret in js[i]['retrieval']] for i in range(len(js))]\n",
    "    tau_scores = []\n",
    "    pairs = generate_pairs(n_aug, n_sample)\n",
    "    for i, j in pairs:\n",
    "        tau_scores.append(kendalls_tau_with_ties(total_list[i], total_list[j]))\n",
    "\n",
    "    print(sum(tau_scores) / len(tau_scores))"
   ]
  },
  {
   "cell_type": "code",
   "execution_count": 34,
   "id": "3e9c43b8-e36b-4d51-adef-97dbd507174e",
   "metadata": {},
   "outputs": [],
   "source": [
    "suc_list = get_rbo_score(suc_js)\n",
    "fail_list = get_rbo_score(fail_js)"
   ]
  },
  {
   "cell_type": "code",
   "execution_count": 35,
   "id": "2848b6c0-a516-4c8f-8c64-4142192a7deb",
   "metadata": {},
   "outputs": [
    {
     "data": {
      "image/png": "[encoded data removed]",
      "text/plain": [
       "<Figure size 800x200 with 1 Axes>"
      ]
     },
     "metadata": {},
     "output_type": "display_data"
    }
   ],
   "source": [
    "from matplotlib import pyplot as plt\n",
    "\n",
    "# Plotting the lists as points in a 1D space\n",
    "plt.figure(figsize=(8, 2))\n",
    "\n",
    "# Plotting the points for each list along a 1D line\n",
    "plt.scatter(suc_list, [1]*len(suc_list), label='Success', color='blue', marker='o')\n",
    "plt.scatter(fail_list, [2]*len(fail_list), label='Fail', color='red', marker='x')\n",
    "\n",
    "# Removing y-axis since it's a 1D plot\n",
    "plt.yticks([])\n",
    "\n",
    "# Adding labels and legend\n",
    "plt.xlabel('Value')\n",
    "plt.legend()\n",
    "\n",
    "# Display the plot\n",
    "plt.show()"
   ]
  },
  {
   "cell_type": "code",
   "execution_count": 36,
   "id": "d21357d0-0314-44bb-9028-977588fb2d07",
   "metadata": {},
   "outputs": [
    {
     "name": "stdout",
     "output_type": "stream",
     "text": [
      "0.43900863877176294\n",
      "0.36671216966884196\n"
     ]
    }
   ],
   "source": [
    "print(sum(suc_list) / len(suc_list))\n",
    "print(sum(fail_list) / len(fail_list))"
   ]
  }
 ],
 "metadata": {
  "kernelspec": {
   "display_name": "Python 3 (ipykernel)",
   "language": "python",
   "name": "python3"
  },
  "language_info": {
   "codemirror_mode": {
    "name": "ipython",
    "version": 3
   },
   "file_extension": ".py",
   "mimetype": "text/x-python",
   "name": "python",
   "nbconvert_exporter": "python",
   "pygments_lexer": "ipython3",
   "version": "3.9.19"
  }
 },
 "nbformat": 4,
 "nbformat_minor": 5
}
