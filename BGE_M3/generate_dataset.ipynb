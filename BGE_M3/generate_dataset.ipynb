{
 "cells": [
  {
   "cell_type": "code",
   "execution_count": 73,
   "id": "d50d7193-5564-4a4a-a2c9-8fbbc15b9510",
   "metadata": {},
   "outputs": [],
   "source": [
    "num_positives = 8\n",
    "num_negatives_per_positive = 5"
   ]
  },
  {
   "cell_type": "code",
   "execution_count": 74,
   "id": "fcaf1679-9d02-460a-b15a-79cfdcb8b883",
   "metadata": {},
   "outputs": [],
   "source": [
    "# Load entire corpus\n",
    "import json\n",
    "def load_jsonl(path):\n",
    "    with open(path) as f:\n",
    "        return [json.loads(i) for i in f.readlines()]\n",
    "        \n",
    "corpus = load_jsonl(\"/gallery_louvre/dayoon.ko/research/sds/src/datasets/trec-covid/corpus.jsonl\")\n",
    "corpus_dict = {}\n",
    "for item in corpus:\n",
    "    corpus_dict[item[\"_id\"]] = item[\"text\"]"
   ]
  },
  {
   "cell_type": "code",
   "execution_count": 87,
   "id": "6ed7390a-c249-4131-827a-32c174217c92",
   "metadata": {
    "scrolled": true
   },
   "outputs": [
    {
     "data": {
      "text/plain": [
       "(89, 38)"
      ]
     },
     "execution_count": 87,
     "metadata": {},
     "output_type": "execute_result"
    }
   ],
   "source": [
    "# Load succ and fail csv files\n",
    "import pandas as pd\n",
    "succ_path = \"/gallery_louvre/dayoon.ko/research/sds/retrieval/results/multilingual-e5-large/trec-covid-suc.csv\"\n",
    "fail_path = \"/gallery_louvre/dayoon.ko/research/sds/retrieval/results/multilingual-e5-large/trec-covid-fail.csv\"\n",
    "succ_df = pd.read_csv(succ_path)\n",
    "fail_df = pd.read_csv(fail_path)\n",
    "\n",
    "# Get succ and fail corpus-id\n",
    "succ_ids = succ_df[\"corpus-id\"].values\n",
    "fail_ids = fail_df[\"corpus-id\"].values\n",
    "\n",
    "# Get succ and fail documents\n",
    "succ_docs = [corpus_dict[i] for i in succ_ids]\n",
    "fail_docs = [corpus_dict[i] for i in fail_ids]\n",
    "\n",
    "len(succ_ids), len(fail_ids)"
   ]
  },
  {
   "cell_type": "code",
   "execution_count": 31,
   "id": "e7f160e6-28da-4a8e-a6da-d8cb6d0b69ef",
   "metadata": {},
   "outputs": [],
   "source": [
    "def get_positives(path):\n",
    "    path = path.replace(\".csv\", \"-d2d-retrieval.jsonl\")\n",
    "    d2d_ret = load_jsonl(path)\n",
    "    positives = []\n",
    "    for d2d in d2d_ret:\n",
    "        positive = []\n",
    "        for ret in d2d[\"retrieval\"]:\n",
    "            doc = ret[\"document\"]\n",
    "            if doc != d2d[\"text\"]:\n",
    "                positive.append(doc)\n",
    "            if len(positive) == num_positives:\n",
    "                positives.append(positive)\n",
    "                break\n",
    "    return positives\n",
    "\n",
    "succ_positives = get_positives(succ_path)\n",
    "fail_positives = get_positives(fail_path)"
   ]
  },
  {
   "cell_type": "code",
   "execution_count": 32,
   "id": "f63f1c33-04a6-4ce6-bbb6-1e030f7d3df1",
   "metadata": {},
   "outputs": [],
   "source": [
    "def get_negatives(path):\n",
    "    # Load d2d\n",
    "    d2d_path = path.replace(\".csv\", \"-d2d-retrieval.jsonl\")\n",
    "    d2d_ret = load_jsonl(d2d_path)\n",
    "    d2d_text = [[i[\"document\"] for i in ret[\"retrieval\"]]\n",
    "                    for ret in d2d_ret]\n",
    "    # Load d2d2d\n",
    "    d2d2d_path = path.replace(\".csv\", \"-d2d2d-retrieval.jsonl\")\n",
    "    d2d2d_ret = load_jsonl(d2d2d_path)\n",
    "    d2d2d_ret_batches = [d2d2d_ret[i:i+num_positives] for i in range(0, len(d2d2d_ret), num_positives)] # 89, n_pos, n_neg\n",
    "    \n",
    "    # Select negatives\n",
    "    negatives_total = [] # per datapoint\n",
    "    for first_ret, second_ret_batch in zip(d2d_text, d2d2d_ret_batches):\n",
    "        negatives = [] # per positive\n",
    "        for second_ret in second_ret_batch:\n",
    "            negative = []\n",
    "            second_ret = [i[\"document\"] for i in second_ret[\"retrieval\"]]\n",
    "            for ret in second_ret:\n",
    "                if ret not in first_ret:\n",
    "                    negative.append(ret)\n",
    "                if len(negative) == num_negatives_per_positive:\n",
    "                    negatives.append(negative)\n",
    "                    break\n",
    "            if len(negative) < num_negatives_per_positive:\n",
    "                negatives.append(negative)\n",
    "        negatives_total.append(negatives)\n",
    "            \n",
    "    return negatives_total\n",
    "\n",
    "succ_negatives = get_negatives(succ_path)\n",
    "fail_negatives = get_negatives(fail_path)"
   ]
  },
  {
   "cell_type": "code",
   "execution_count": 33,
   "id": "981b0e59-167e-4f1c-97bc-61df438554a6",
   "metadata": {},
   "outputs": [],
   "source": [
    "def generate_dataset(docs, positives, negatives):\n",
    "    dataset = []\n",
    "    for i in range(len(docs)):\n",
    "        query = docs[i]\n",
    "        positives_selected = []\n",
    "        negatives_selected = []\n",
    "        for j, doc in enumerate(positives[i]):\n",
    "            if len(negatives[i][j]) == num_negatives_per_positive:\n",
    "                positives_selected.append(doc)\n",
    "                negatives_selected.append(negatives[i][j])\n",
    "            if len(positives_selected) == 4:\n",
    "                break\n",
    "        for p, ns in zip(positives_selected, negatives_selected):\n",
    "            dataset.append({\n",
    "                \"query\": query,\n",
    "                \"pos\": [p],\n",
    "                \"neg\": ns\n",
    "            })\n",
    "    return dataset"
   ]
  },
  {
   "cell_type": "code",
   "execution_count": 34,
   "id": "a92d244c-40af-478a-afaa-dd6fedd8293a",
   "metadata": {
    "scrolled": true
   },
   "outputs": [
    {
     "name": "stdout",
     "output_type": "stream",
     "text": [
      "{'query': 'SARS-CoV-2 has caused tens of thousands of infections and more than one thousand deaths. There are currently no registered therapies for treating coronavirus infections. Because of time consuming process of new drug development, drug repositioning may be the only solution to the epidemic of sudden infectious diseases. We systematically analyzed all the proteins encoded by SARS-CoV-2 genes, compared them with proteins from other coronaviruses, predicted their structures, and built 19 structures that could be done by homology modeling. By performing target-based virtual ligand screening, a total of 21 targets (including two human targets) were screened against compound libraries including ZINC drug database and our own database of natural products. Structure and screening results of important targets such as 3-chymotrypsin-like protease (3CLpro), Spike, RNA-dependent RNA polymerase (RdRp), and papain like protease (PLpro) were discussed in detail. In addition, a database of 78 commonly used anti-viral drugs including those currently on the market and undergoing clinical trials for SARS-CoV-2 was constructed. Possible targets of these compounds and potential drugs acting on a certain target were predicted. This study will provide new lead compounds and targets for further in vitro and in vivo studies of SARS-CoV-2, new insights for those drugs currently ongoing clinical studies, and also possible new strategies for drug repositioning to treat SARS-CoV-2 infections.', 'pos': ['The outbreak of a novel human coronavirus (SARS-CoV-2) has evolved into global health emergency, infecting hundreds of thousands of people worldwide. We have identified experimental data on the inhibitory activity of compounds tested against closely related (96% sequence identity, 100% active site conservation) protease of SARS-CoV and employed this data to build QSAR models for this dataset. We employed these models for virtual screening of all drugs from DrugBank, including compounds in clinical trials. Molecular docking and similarity search approaches were explored in parallel with QSAR modeling, but molecular docking failed to correctly discriminate between experimentally active and inactive compounds. As a result of our studies, we recommended 41 approved, experimental, or investigational drugs as potential agents against SARS-CoV-2 acting as putative inhibitors of Mpro. Ten compounds with feasible prices were purchased and are awaiting the experimental validation..'], 'neg': ['OBJECTIVES: With increase in number of people suffering from COVID-19, there is a dire need to look for effective remedies against this pandemic. Drug repurposing seems to be the solution for current situation. METHODS: In our quest for finding potential drug against this virus, 15 anti-malarial drugs including chloroquine, and 2413 FDA approved drugs were investigated against both protease and spike proteins of COVID-19 usingin-silico approach. Molecular docking analysis followed by MD simulation was carried out to estimate the binding and stability of the complexes. RESULTS: In this study, we found a single drug Paromomycin against two targets of COVID-19 i.e. Spike protein (S1) and protease domain. Paromomycin was found to have strong binding affinity against both the targets of coronavirus. The results also showed that no anti-malarial drug exhibited effective binding against either S1 or protease. CONCLUSIONS: Current study concluded that Paromomycin is an effective dual targeting drug against coronavirus, as it binds not only to the protease domain of the virion but also with the spike domain with high stability. Furthermore, none of the anti-malarial drugs showed strong binding affinity for either protease or receptor binding domain (RBD).', 'AIMS: The severe acute respiratory syndrome coronavirus 2, better known as COVID-19 has become the current health concern to the entire world. Initially appeared in Wuhan, China around December 2019, it had spread to almost 187 countries due to its high contagious nature. Precautionary measures remain the sole obliging tactic to cease the person to person transmissions till any effective method of treatment or vaccine is developed. Amidst the pandemic, research and development of new molecule is labour-intensive and tedious process. Drug repurposing is the concept of identifying therapeutically potent molecule from the library of pre-existing molecules. MATERIALS AND METHODS: In the present study, 61 molecules that are already being used in clinics or under clinical scrutiny as antiviral agents are surveyed via docking study. Docking study was performed using Maestro interface (Schrödinger Suite, LLC, NY). KEY FINDINGS: Out of these 61 molecules, 37 molecules were found to interact with >2 protein structures of COVID-19. The docking results indicate that amongst the reported molecules, HIV protease inhibitors and RNA-dependent RNA polymerase inhibitors showed promising features of binding to COVID-19 enzyme. Along with these, Methisazone an inhibitor of protein synthesis, CGP42112A an angiotensin AT2 receptor agonist and ABT450 an inhibitor of the non-structural protein 3-4A might become convenient treatment option as well against COVID-19. SIGNIFICANCE: The drug repurposing approach provide an insight about the therapeutics that might be helpful in treating corona virus disease.', 'The emergence of COVID-19 has severely compromised the arsenal of antiviral and antibiotic drugs. Drug discovery is a multistep process with a high failure rate, high cost and it takes approximately 10-12 years for the development of new molecules into the clinical candidate. On the other side, drug repurposing also called old drugs for new uses, is an attractive alternative approach for a new application of marketed FDA approved or investigational drugs. In the current pandemic situation raised due to COVID-19, repurposing of existing FDA approved drugs are emerging as the first line of the treatment. The causative viral agent of this highly contagious disease and acute respiratory syndrome coronavirus (SARS-CoV) shares high nucleotide similarity. Therefore, many existing viral targets are structurally expected to be similar to SARS-CoV and likely to be inhibited by the same compounds. Here, we selected three viral key proteins based on their vital role in viral life cycle: ACE2 (helps in entry into the human host), viral nonstructural proteins RNA-dependent RNA polymerase (RdRp) NSP12, and NSP16 which helps in replication, and viral latency (invasion from immunity). The FDA approved drugs chloroquine (CQ), hydroxychloroquine (HCQ), remdesivir (RDV) and arbidol (ABD) are emerging as promising agents to combat COVID-19. Our hypothesis behind the docking studies is to determine the binding affinities of these drugs and identify the key amino acid residues playing a key role in their mechanism of action. The docking studies were carried out through Autodock and online COVID-19 docking server. Further studies on a broad range of FDA approved drugs including few more protein targets, molecular dynamics studies, in-vitro and in-vivo biological evaluation are required to identify the combination therapy targeting various stages of the viral life cycle.', 'The recent outbreak of novel coronavirus disease-19 (COVID-19) calls for and welcomes possible treatment strategies using drugs on the market. It is very efficient to apply computer-aided drug design techniques to quickly identify promising drug repurposing candidates, especially after the detailed 3D structures of key viral proteins are resolved. The virus causing COVID-19 is SARS-CoV-2. Taking advantage of a recently released crystal structure of SARS-CoV-2 main protease in complex with a covalently bonded inhibitor, N3 (Liu et al., 10.2210/pdb6LU7/pdb), I conducted virtual docking screening of approved drugs and drug candidates in clinical trials. For the top docking hits, I then performed molecular dynamics simulations followed by binding free energy calculations using an end point method called MM-PBSA-WSAS (molecular mechanics/Poisson-Boltzmann surface area/weighted solvent-accessible surface area; Wang, Chem. Rev. 2019, 119, 9478; Wang, Curr. Comput.-Aided Drug Des. 2006, 2, 287; Wang; ; Hou J. Chem. Inf. Model., 2012, 52, 1199). Several promising known drugs stand out as potential inhibitors of SARS-CoV-2 main protease, including carfilzomib, eravacycline, valrubicin, lopinavir, and elbasvir. Carfilzomib, an approved anticancer drug acting as a proteasome inhibitor, has the best MM-PBSA-WSAS binding free energy, -13.8 kcal/mol. The second-best repurposing drug candidate, eravacycline, is synthetic halogenated tetracycline class antibiotic. Streptomycin, another antibiotic and a charged molecule, also demonstrates some inhibitory effect, even though the predicted binding free energy of the charged form (-3.8 kcal/mol) is not nearly as low as that of the neutral form (-7.9 kcal/mol). One bioactive, PubChem 23727975, has a binding free energy of -12.9 kcal/mol. Detailed receptor-ligand interactions were analyzed and hot spots for the receptor-ligand binding were identified. I found that one hot spot residue, His41, is a conserved residue across many viruses including SARS-CoV, SARS-CoV-2, MERS-CoV, and hepatitis C virus (HCV). The findings of this study can facilitate rational drug design targeting the SARS-CoV-2 main protease.', 'SARS-CoV-2 or Coronavirus disease 19 (COVID-19) is a rapidly spreading, highly contagious, and sometimes fatal disease for which drug discovery and vaccine development are critical. SARS-CoV-2 papain-like protease (PLpro) was used to virtually screen 1697 clinical FDA-approved drugs. Among the top results expected to bind with SARS-CoV-2 PLpro strongly were three cell protectives and antioxidants (NAD+, quercitrin, and oxiglutatione), three antivirals (ritonavir, moroxydine, and zanamivir), two antimicrobials (doripenem and sulfaguanidine), two anticancer drugs, three benzimidazole anthelmintics, one antacid (famotidine), three anti-hypertensive ACE receptor blockers (candesartan, losartan, and valsartan) and other miscellaneous systemically or topically acting drugs. The binding patterns of these drugs were superior to the previously identified SARS CoV PLpro inhibitor, 6-mercaptopurine (6-MP), suggesting a potential for repurposing these drugs to treat COVID-19. The objective of drug repurposing is the rapid relocation of safe and approved drugs by bypassing the lengthy pharmacokinetic, toxicity, and preclinical phases. The ten drugs with the highest estimated docking scores with favorable pharmacokinetics were subjected to molecular dynamics (MD) simulations followed by molecular mechanics/generalized Born surface area (MM/GBSA) binding energy calculations. Phenformin, quercetin, and ritonavir all demonstrated prospective binding affinities for COVID-19 PLpro over 50 ns MD simulations, with binding energy values of -56.6, -40.9, and -37.6 kcal/mol, respectively. Energetic and structural analyses showed phenformin was more stable than quercetin and ritonavir. The list of the drugs provided herein constitutes a primer for clinical application in COVID-19 patients and guidance for further antiviral studies.Communicated by Ramaswamy H. Sarma.']}\n"
     ]
    }
   ],
   "source": [
    "succ_dataset = generate_dataset(succ_docs, succ_positives, succ_negatives)\n",
    "print(succ_dataset[0])\n",
    "with open(\"trec-covid/ood_well_below_0.4.json\", \"w\") as f:\n",
    "    json.dump(succ_dataset, f, indent=2)"
   ]
  },
  {
   "cell_type": "code",
   "execution_count": 170,
   "id": "7568249c-731a-41d1-a8ad-e6dea6561476",
   "metadata": {
    "scrolled": true
   },
   "outputs": [
    {
     "name": "stdout",
     "output_type": "stream",
     "text": [
      "{'query': \"Abstract COVID-19 was originated from Wuhan city of Hubei Province in China in December 2019. Since then it has spread in more than 210 countries and territories. It is a viral disease due to the Severe Acute Respiratory Syndrome Coronavirus 2 (SARS-CoV-2) virus. The patients show flu-like symptoms with a dry cough, sore throat, high fever, and breathing problems. The disease due to SARS-CoV-2 was named as COVID-19. About 2.2 million people have been infected with more than 0.15 million deaths globally. The United States of America is the most affected country with the highest patients of about 0.7 million. Despite great efforts, there is no treatment of this disease. However, prevention and management are the best options. This article describes SARS-CoV-2, disease, prevention and management, treatment and social impact on society. It was analyzed that a combination of antiviral drugs with hydroxyl-chloroquine and azithromycin (with the consultation of a medical practitioner) may be the best option to treat the patients, depending on the patient's conditions and symptoms. However, Unani therapy may be useful along with allopathic treatment. It is urgently advised and requested that all the persons should follow the preventive measures, managements and quarantine strictly without any religious discrepancy otherwise the situation may be the worst. Also, there is an urgent requirement to educate our new generation for science and technology to fight against any such disaster in future; if any. There is no need to be panic and proper prevention and management are essential to combat this disease. This article may be useful to create awareness among the public, to prevent, manage and treat COVID-19.\", 'pos': [\"INTRODUCTION: The Coronavirus disease-19 (COVID-19) caused by the novel beta coronavirus named Severe Acute Respiratory Syndromecoronavirus-2 (SARS-CoV-2) started in late December 2019 in Wuhan, China. Within a short span, COVID-19 was declared a global public health emergency affecting 214 countries with 5,939,234 confirmed cases and 3,67,255 deaths as of 30 May, 2020. With limited knowledge about SARS-CoV-2, no approved treatment or vaccine is available till date. AREAS COVERED: We performed a review of literature on PubMed on the SARS-CoV-2 virus and COVID-19 illness including trials of preventive and therapeutic measures. This review presents the basic biology of coronaviruses, epidemiology of COVID-19, clinical presentations, investigational therapies and vaccines, infection prevention and control measures and the lessons from the present pandemic. EXPERT OPINION: The scale of the outbreak has brought the governments, healthcare professionals and scientists around the world under tremendous pressure to devise control strategies and develop novel prevention measures. While availability of vaccine for COVID-19 may take time, the disease may be contained through hand hygiene, physical distancing, travel restriction and aggressive steps such as 'lockdown'. Clinical trials at different phases are ongoing across different countries to expedite development of effective drugs and vaccine to overcome the pandemic.\"], 'neg': ['An epidemic of extreme respiratory deterrence, pneumonia and shortness of breath, the SARS-CoV-2 viral infection began in Wuhan, Hubei Province, China in December 2019, and rapidly spread across China and beyond, with human to human transmission. On February 12, 2020, World Health Organization officially named the new coronavirus disease as coronavirus disease 19 (COVID-19). Most COVID-19 patients were diagnosed with pneumonia and many were treated using Chinese medicines and other secondary therapies. As of April 22, 2020, the total figure of infected patients has crossed 2.6 million people worldwide with over 180,000 deaths and 700,000 patients that have recovered. Preliminary reports suggest that certain drugs, such as chloroquine and antiviral nucleotide analogues such as remdesivir, which inhibit viral replication, can target the new coronavirus, although their usefulness in the clinic is still under debate. An expert US committee developed the US NIH guidelines for COVID-19 treatment, which was just released and will be regularly updated. This manuscript reviews the epidemiology, etiology, mortality, COVID-19 clinical symptoms, and potential therapeutic drugs, while highlighting the seriousness and damage-induced by SARS-CoV-2.', 'The SARS-CoV-2, a newly identified ß-coronavirus, is the causative agent of the third large-scale pandemic from the last two decades. The outbreak started in December 2019 in Wuhan City, Hubei province in China. The patients presented clinical symptoms of dry cough, fever, dyspnea, and bilateral lung infiltrates on imaging. By February 2020, The World Health Organization (WHO) named the disease as Coronavirus Disease 2019 (COVID-19). The Coronavirus Study Group (CSG) of the International Committee on Taxonomy of Viruses (ICTV) recognized and designated this virus as severe acute respiratory syndrome coronavirus 2 (SARS-CoV-2). The SARS-CoV-2 uses the same host receptor, angiotensin-converting enzyme 2 (ACE2), used by SARS-CoV to infect humans. One hypothesis of SARSCoV-2 origin indicates that it is likely that bats serve as reservoir hosts for SARSCoV-2, being the intermediate host not yet determined. The predominant route of transmission of SARS-CoV-2 is from human to human. As of May 10th 2020, the number of worldwide confirmed COVID-19 cases is over 4 million, while the number of global deaths is around 279.000 people. The United States of America (USA) has the highest number of COVID-19 cases with over 1.3 million cases followed by Spain, Italy, United Kingdom, Russia, France and Germany with over 223.000, 218.000, 215.000, 209.000, 176.000, and 171.000 cases, respectively.', 'The recent severe acute respiratory syndrome coronavirus 2 (SARS-CoV-2, previously known as 2019-nCoV) outbreak has engulfed an unprepared world amidst a festive season. The zoonotic SARS-CoV-2, believed to have originated from infected bats, is the seventh member of enveloped RNA coronavirus. Specifically, the overall genome sequence of the SARS-CoV-2 is 96.2% identical to that of bat coronavirus termed BatCoV RaTG13. Although the current mortality rate of 2% is significantly lower than that of SARS (9.6%) and Middle East respiratory syndrome (MERS) (35%), SARS-CoV-2 is highly contagious and transmissible from human to human with an incubation period of up to 24 days. Some statistical studies have shown that, on average, one infected patient may lead to a subsequent 5.7 confirmed cases. Since the first reported case of coronavirus disease 2019 (COVID-19) caused by the SARS-CoV-2 on December 1, 2019, in Wuhan, China, there has been a total of 60,412 confirmed cases with 1370 fatalities reported in 25 different countries as of February 13, 2020. The outbreak has led to severe impacts on social health and the economy at various levels. This paper is a review of the significant, continuous global effort that was made to respond to the outbreak in the first 75 days. Although no vaccines have been discovered yet, a series of containment measures have been implemented by various governments, especially in China, in the effort to prevent further outbreak, whilst various medical treatment approaches have been used to successfully treat infected patients. On the basis of current studies, it would appear that the combined antiviral treatment has shown the highest success rate. This review aims to critically summarize the most recent advances in understanding the coronavirus, as well as the strategies in prevention and treatment.', \"The emergence and rapid spread of novel coronavirus disease (COVID-19) caused by severe acute respiratory syndrome coronavirus 2 (SARS-CoV-2) as a potentially fatal disease is swiftly evolving public health crises worldwide. The origin of SARS-CoV-2 infection was first reported in people exposed to wet animal market in Wuhan City, China in December 2019. It was suggested that the infection is likely to be of zoonotic origin and transmitted to human through yet unknown intermediary. As of (22/05/2020), there are around 4,995,996 confirmed cases reported by WHO with 327,821 deaths. SARS-CoV-2 infection is transmitted via inhalation or direct contact of infected people's droplets. It has an incubation period ranging from 2 to 14 days or more. The rate of spread of SARS-CoV-2 is more than partially resembled coronavirus (SARS-CoV and MERS). The symptoms are similar to influenza like, breathlessness, sore throat and fatigue therefore, infected person is isolated and administrated with effective treatments. Infection is mild in most but in elderly (>50 years) and those with cardiac and respiratory disorder, it may progress to pneumonia, acute respiratory distress syndrome, and multi organ failure. People with strong immunity or those developed herd immunity are asymptomatic. Fatality rate ranges to 3-4% on case basis. Diagnosis of SARS-CoV-2 is recommended in respiratory secretions by special molecular tests like PCR, chest scan and common laboratory diagnosis. Currently, the existing treatment is essentially supportive and role of antiviral agents is yet to be established as there is no vaccination or therapy available. This review focuses on epidemiology, symptoms, transmission, pathogenesis, ongoing available treatments and future perspectives of SARS-CoV-2.\", 'The SARS-CoV-2, a newly identified β-coronavirus, is the causative agent of the third large-scale pandemic from the last two decades. The outbreak started in December 2019 in Wuhan City, Hubei province in China. The patients presented clinical symptoms of dry cough, fever, dyspnea, and bilateral lung infiltrates on imaging. By February 2020, The World Health Organization (WHO) named the disease as Coronavirus Disease 2019 (COVID-19). The Coronavirus Study Group (CSG) of the International Committee on Taxonomy of Viruses (ICTV) recognized and designated this virus as severe acute respiratory syndrome coronavirus 2 (SARS-CoV-2). The SARS-CoV-2 uses the same host receptor, angiotensin-converting enzyme 2 (ACE2), used by SARS-CoV to infect humans. One hypothesis of SARSCoV-2 origin indicates that it is likely that bats serve as reservoir hosts for SARSCoV-2, being the intermediate host not yet determined. The predominant route of transmission of SARS-CoV-2 is from human to human. As of May 10th 2020, the number of worldwide confirmed COVID-19 cases is over 4 million, while the number of global deaths is around 279.000 people. The United States of America (USA) has the highest number of COVID-19 cases with over 1.3 million cases followed by Spain, Italy, United Kingdom, Russia, France and Germany with over 223.000, 218.000, 215.000, 209.000, 176.000, and 171.000 cases, respectively.']}\n"
     ]
    }
   ],
   "source": [
    "fail_dataset = generate_dataset(fail_docs, fail_positives, fail_negatives)\n",
    "print(fail_dataset[0])\n",
    "with open(\"ood_dataset/trec-covid-fail.json\", \"w\") as f:\n",
    "    json.dump(fail_dataset, f, indent=2)"
   ]
  },
  {
   "cell_type": "markdown",
   "id": "7c1c8763-ff07-4b48-a07b-1ff92244da09",
   "metadata": {},
   "source": [
    "# Random negative"
   ]
  },
  {
   "cell_type": "code",
   "execution_count": 9,
   "id": "0a8fdd0b-0421-422e-b9b5-8dfb1dfdfbb1",
   "metadata": {},
   "outputs": [],
   "source": [
    "import random\n",
    "\n",
    "negs = [i[\"text\"] for i in random.sample(corpus, 20) if len(i[\"text\"]) > 0][:5]\n",
    "\n",
    "def generate_rand_neg_dataset(docs, positives, negatives):\n",
    "    dataset = []\n",
    "    for i in range(len(docs)):\n",
    "        query = docs[i]\n",
    "        positives_selected = []\n",
    "        negatives_selected = []\n",
    "        for j, doc in enumerate(positives[i]):\n",
    "            if len(negatives[i][j]) == num_negatives_per_positive:\n",
    "                positives_selected.append(doc)\n",
    "                negatives_selected.append(negs)\n",
    "            if len(positives_selected) == 4:\n",
    "                break\n",
    "        for p, ns in zip(positives_selected, negatives_selected):\n",
    "            dataset.append({\n",
    "                \"query\": query,\n",
    "                \"pos\": [p],\n",
    "                \"neg\": ns\n",
    "            })\n",
    "    return dataset"
   ]
  },
  {
   "cell_type": "code",
   "execution_count": 10,
   "id": "23850017-511e-4bb3-9ea6-ded6c2a29a26",
   "metadata": {
    "scrolled": true
   },
   "outputs": [
    {
     "name": "stdout",
     "output_type": "stream",
     "text": [
      "{'query': 'SARS-CoV-2 has caused tens of thousands of infections and more than one thousand deaths. There are currently no registered therapies for treating coronavirus infections. Because of time consuming process of new drug development, drug repositioning may be the only solution to the epidemic of sudden infectious diseases. We systematically analyzed all the proteins encoded by SARS-CoV-2 genes, compared them with proteins from other coronaviruses, predicted their structures, and built 19 structures that could be done by homology modeling. By performing target-based virtual ligand screening, a total of 21 targets (including two human targets) were screened against compound libraries including ZINC drug database and our own database of natural products. Structure and screening results of important targets such as 3-chymotrypsin-like protease (3CLpro), Spike, RNA-dependent RNA polymerase (RdRp), and papain like protease (PLpro) were discussed in detail. In addition, a database of 78 commonly used anti-viral drugs including those currently on the market and undergoing clinical trials for SARS-CoV-2 was constructed. Possible targets of these compounds and potential drugs acting on a certain target were predicted. This study will provide new lead compounds and targets for further in vitro and in vivo studies of SARS-CoV-2, new insights for those drugs currently ongoing clinical studies, and also possible new strategies for drug repositioning to treat SARS-CoV-2 infections.', 'pos': ['The outbreak of a novel human coronavirus (SARS-CoV-2) has evolved into global health emergency, infecting hundreds of thousands of people worldwide. We have identified experimental data on the inhibitory activity of compounds tested against closely related (96% sequence identity, 100% active site conservation) protease of SARS-CoV and employed this data to build QSAR models for this dataset. We employed these models for virtual screening of all drugs from DrugBank, including compounds in clinical trials. Molecular docking and similarity search approaches were explored in parallel with QSAR modeling, but molecular docking failed to correctly discriminate between experimentally active and inactive compounds. As a result of our studies, we recommended 41 approved, experimental, or investigational drugs as potential agents against SARS-CoV-2 acting as putative inhibitors of Mpro. Ten compounds with feasible prices were purchased and are awaiting the experimental validation..'], 'neg': ['To investigate the influence of different menstrual phases on the Bispectral Index (BIS) during dexmedetomidine (Dex) sedation, 40 patients with regular menstrual cycle, American Society of Anesthesiologists I-II, aged 18-40 years, undergoing selective gynecologic laparoscopic surgery, were enrolled. According to different menstrual phases and the serum progesterone concentration, they were divided into two groups: the follicular phase group (Group F) and the luteal phase group (Group L), and each group had 20 patients. Before anesthesia induction, patients were infused with an initial loading dose of Dex (1 μg/kg) for 10 minutes and then 0.5 μg/kg/h for 20 minutes. BIS and the changes in hemodynamic and respiratory parameters were recorded within those 30 minutes. Time to lower BIS to 70 and 60 in Group L was shorter than that in Group F (9.4 ± 1.3 minutes vs. 11.3 ± 2.1 minutes, p = 0.005; 11.3 ± 2.4 minutes vs. 14.0 ± 3.6 minutes, p = 0.021). The number of patients whose BIS reached 50 in Group L was greater than that in Group F (15 vs. 8, p < 0.05). The lowest BIS value in the Group L was lower than that in Group F (46.8 ± 6.3 vs. 55.3 ± 5.5, p = 0.006), and the heart rate of patients in both groups showed a decrease (p < 0.05). The sedative effect of Dex was more significant in patients during the luteal phase than during the follicular phase.', 'Two decades of growing resource availability from agencies and foundations in wealthy countries has transformed approaches to health in poorly resourced nations. This progress looks increasingly unstable as climate change, social unrest, and, now, disruptive pandemics present threats not only to health but also to the mechanisms that manage it, and to funding itself. The growth in “global health” schools, technology development laboratories, nongovernmental organizations and multilateral institutions in donor countries has delivered not only successes but also disappointment, and reflect a paradigm that is in many ways contrary to the principles of population-based ownership that they espouse. Although the COVID-19 crisis has underlined the importance of health access and health service capacity, we may have a limited window of opportunity in which to rethink the current model and improve both efficiency and effectiveness. With a dose of humility, we may all benefit from studying our own rhetoric on human-centered design and applying these principles across global health to ensure that our approach is effective, efficient, and defensible.', 'The Open Research Knowledge Graph (ORKG) provides machine-actionable access to scholarly literature that habitually is written in prose. Following the FAIR principles, the ORKG makes traditional, human-coded knowledge findable, accessible, interoperable, and reusable in a structured manner in accordance with the Linked Open Data paradigm. At the moment, in ORKG papers are described manually, but in the long run the semantic depth of the literature at scale needs automation. Operational Research is a suitable test case for this vision because the mathematical field and, hence, its publication habits are highly structured: A mundane problem is formulated as a mathematical model, solved or approximated numerically, and evaluated systematically. We study the existing literature with respect to the Assembly Line Balancing Problem and derive a semantic description in accordance with the ORKG. Eventually, selected papers are ingested to test the semantic description and refine it further.', 'Viruses depend on their hosts to complete their replication cycles; they exploit cellular receptors for entry and hijack cellular functions to replicate their genome, assemble progeny virions and spread. Recently, genome-scale CRISPR–Cas screens have been used to identify host factors that are required for virus replication, including the replication of clinically relevant viruses such as Zika virus, West Nile virus, dengue virus and hepatitis C virus. In this Review, we discuss the technical aspects of genome-scale knockout screens using CRISPR–Cas technology, and we compare these screens with alternative genetic screening technologies. The relative ease of use and reproducibility of CRISPR–Cas make it a powerful tool for probing virus–host interactions and for identifying new antiviral targets.', 'The first person-to-person transmission of the 2019-novel coronavirus in Italy on 21 February 2020 led to an infection chain that represents one of the largest known COVID-19 outbreaks outside Asia. Hospitals have been forced to reorganized their units in response to prepare for an unforeseen healthcare emergency. In this context, our laboratory (Molecular and Genomic Diagnostics Unit, Fondazione Policlinico Universitario Agostino Gemelli IRCCS) re-modulated its priorities by temporarily interrupting most of the molecular tests guaranteeing only those considered \"urgent\" and not postponable. In particular, this paper details changes regarding the execution of germline BRCA (gBRCA) testing in our laboratory. A substantial reduction in gBRCA testing (about 60%) compared to the first 2 months of the current year was registered, but the requests have not been reset. The requesting physicians were mainly gynaecologists and oncologists. These evidences further emphasize the new era of gBRCA testing in the management of cancer patients and confirms definitively the integration of gBRCA testing/Next Generation Sequencing (NGS) into clinical oncology. Finally, a re-organization of gBRCA testing in our Unit, mainly related to delayed and reduced arrival of tests was necessary, ensuring, however, a high-quality standard and reliability, mandatory for gBRCA testing in a clinical setting.']}\n",
      "{'query': \"Abstract COVID-19 was originated from Wuhan city of Hubei Province in China in December 2019. Since then it has spread in more than 210 countries and territories. It is a viral disease due to the Severe Acute Respiratory Syndrome Coronavirus 2 (SARS-CoV-2) virus. The patients show flu-like symptoms with a dry cough, sore throat, high fever, and breathing problems. The disease due to SARS-CoV-2 was named as COVID-19. About 2.2 million people have been infected with more than 0.15 million deaths globally. The United States of America is the most affected country with the highest patients of about 0.7 million. Despite great efforts, there is no treatment of this disease. However, prevention and management are the best options. This article describes SARS-CoV-2, disease, prevention and management, treatment and social impact on society. It was analyzed that a combination of antiviral drugs with hydroxyl-chloroquine and azithromycin (with the consultation of a medical practitioner) may be the best option to treat the patients, depending on the patient's conditions and symptoms. However, Unani therapy may be useful along with allopathic treatment. It is urgently advised and requested that all the persons should follow the preventive measures, managements and quarantine strictly without any religious discrepancy otherwise the situation may be the worst. Also, there is an urgent requirement to educate our new generation for science and technology to fight against any such disaster in future; if any. There is no need to be panic and proper prevention and management are essential to combat this disease. This article may be useful to create awareness among the public, to prevent, manage and treat COVID-19.\", 'pos': [\"INTRODUCTION: The Coronavirus disease-19 (COVID-19) caused by the novel beta coronavirus named Severe Acute Respiratory Syndromecoronavirus-2 (SARS-CoV-2) started in late December 2019 in Wuhan, China. Within a short span, COVID-19 was declared a global public health emergency affecting 214 countries with 5,939,234 confirmed cases and 3,67,255 deaths as of 30 May, 2020. With limited knowledge about SARS-CoV-2, no approved treatment or vaccine is available till date. AREAS COVERED: We performed a review of literature on PubMed on the SARS-CoV-2 virus and COVID-19 illness including trials of preventive and therapeutic measures. This review presents the basic biology of coronaviruses, epidemiology of COVID-19, clinical presentations, investigational therapies and vaccines, infection prevention and control measures and the lessons from the present pandemic. EXPERT OPINION: The scale of the outbreak has brought the governments, healthcare professionals and scientists around the world under tremendous pressure to devise control strategies and develop novel prevention measures. While availability of vaccine for COVID-19 may take time, the disease may be contained through hand hygiene, physical distancing, travel restriction and aggressive steps such as 'lockdown'. Clinical trials at different phases are ongoing across different countries to expedite development of effective drugs and vaccine to overcome the pandemic.\"], 'neg': ['To investigate the influence of different menstrual phases on the Bispectral Index (BIS) during dexmedetomidine (Dex) sedation, 40 patients with regular menstrual cycle, American Society of Anesthesiologists I-II, aged 18-40 years, undergoing selective gynecologic laparoscopic surgery, were enrolled. According to different menstrual phases and the serum progesterone concentration, they were divided into two groups: the follicular phase group (Group F) and the luteal phase group (Group L), and each group had 20 patients. Before anesthesia induction, patients were infused with an initial loading dose of Dex (1 μg/kg) for 10 minutes and then 0.5 μg/kg/h for 20 minutes. BIS and the changes in hemodynamic and respiratory parameters were recorded within those 30 minutes. Time to lower BIS to 70 and 60 in Group L was shorter than that in Group F (9.4 ± 1.3 minutes vs. 11.3 ± 2.1 minutes, p = 0.005; 11.3 ± 2.4 minutes vs. 14.0 ± 3.6 minutes, p = 0.021). The number of patients whose BIS reached 50 in Group L was greater than that in Group F (15 vs. 8, p < 0.05). The lowest BIS value in the Group L was lower than that in Group F (46.8 ± 6.3 vs. 55.3 ± 5.5, p = 0.006), and the heart rate of patients in both groups showed a decrease (p < 0.05). The sedative effect of Dex was more significant in patients during the luteal phase than during the follicular phase.', 'Two decades of growing resource availability from agencies and foundations in wealthy countries has transformed approaches to health in poorly resourced nations. This progress looks increasingly unstable as climate change, social unrest, and, now, disruptive pandemics present threats not only to health but also to the mechanisms that manage it, and to funding itself. The growth in “global health” schools, technology development laboratories, nongovernmental organizations and multilateral institutions in donor countries has delivered not only successes but also disappointment, and reflect a paradigm that is in many ways contrary to the principles of population-based ownership that they espouse. Although the COVID-19 crisis has underlined the importance of health access and health service capacity, we may have a limited window of opportunity in which to rethink the current model and improve both efficiency and effectiveness. With a dose of humility, we may all benefit from studying our own rhetoric on human-centered design and applying these principles across global health to ensure that our approach is effective, efficient, and defensible.', 'The Open Research Knowledge Graph (ORKG) provides machine-actionable access to scholarly literature that habitually is written in prose. Following the FAIR principles, the ORKG makes traditional, human-coded knowledge findable, accessible, interoperable, and reusable in a structured manner in accordance with the Linked Open Data paradigm. At the moment, in ORKG papers are described manually, but in the long run the semantic depth of the literature at scale needs automation. Operational Research is a suitable test case for this vision because the mathematical field and, hence, its publication habits are highly structured: A mundane problem is formulated as a mathematical model, solved or approximated numerically, and evaluated systematically. We study the existing literature with respect to the Assembly Line Balancing Problem and derive a semantic description in accordance with the ORKG. Eventually, selected papers are ingested to test the semantic description and refine it further.', 'Viruses depend on their hosts to complete their replication cycles; they exploit cellular receptors for entry and hijack cellular functions to replicate their genome, assemble progeny virions and spread. Recently, genome-scale CRISPR–Cas screens have been used to identify host factors that are required for virus replication, including the replication of clinically relevant viruses such as Zika virus, West Nile virus, dengue virus and hepatitis C virus. In this Review, we discuss the technical aspects of genome-scale knockout screens using CRISPR–Cas technology, and we compare these screens with alternative genetic screening technologies. The relative ease of use and reproducibility of CRISPR–Cas make it a powerful tool for probing virus–host interactions and for identifying new antiviral targets.', 'The first person-to-person transmission of the 2019-novel coronavirus in Italy on 21 February 2020 led to an infection chain that represents one of the largest known COVID-19 outbreaks outside Asia. Hospitals have been forced to reorganized their units in response to prepare for an unforeseen healthcare emergency. In this context, our laboratory (Molecular and Genomic Diagnostics Unit, Fondazione Policlinico Universitario Agostino Gemelli IRCCS) re-modulated its priorities by temporarily interrupting most of the molecular tests guaranteeing only those considered \"urgent\" and not postponable. In particular, this paper details changes regarding the execution of germline BRCA (gBRCA) testing in our laboratory. A substantial reduction in gBRCA testing (about 60%) compared to the first 2 months of the current year was registered, but the requests have not been reset. The requesting physicians were mainly gynaecologists and oncologists. These evidences further emphasize the new era of gBRCA testing in the management of cancer patients and confirms definitively the integration of gBRCA testing/Next Generation Sequencing (NGS) into clinical oncology. Finally, a re-organization of gBRCA testing in our Unit, mainly related to delayed and reduced arrival of tests was necessary, ensuring, however, a high-quality standard and reliability, mandatory for gBRCA testing in a clinical setting.']}\n"
     ]
    }
   ],
   "source": [
    "succ_dataset = generate_rand_neg_dataset(succ_docs, succ_positives, succ_negatives)\n",
    "print(succ_dataset[0])\n",
    "with open(\"id_randneg_dataset/trec-covid-succ.json\", \"w\") as f:\n",
    "    json.dump(succ_dataset, f, indent=2)\n",
    "\n",
    "\n",
    "fail_dataset = generate_rand_neg_dataset(fail_docs, fail_positives, fail_negatives)\n",
    "print(fail_dataset[0])\n",
    "with open(\"ood_randneg_dataset/trec-covid-fail.json\", \"w\") as f:\n",
    "    json.dump(fail_dataset, f, indent=2)"
   ]
  },
  {
   "cell_type": "markdown",
   "id": "f7cbf7cb-3d04-4379-ba8d-83e303171cbe",
   "metadata": {},
   "source": [
    "# Succ hard selection"
   ]
  },
  {
   "cell_type": "code",
   "execution_count": 104,
   "id": "dc2282b1-51d8-43ee-a741-cb483e97d78c",
   "metadata": {},
   "outputs": [
    {
     "data": {
      "text/html": [
       "<div>\n",
       "<style scoped>\n",
       "    .dataframe tbody tr th:only-of-type {\n",
       "        vertical-align: middle;\n",
       "    }\n",
       "\n",
       "    .dataframe tbody tr th {\n",
       "        vertical-align: top;\n",
       "    }\n",
       "\n",
       "    .dataframe thead th {\n",
       "        text-align: right;\n",
       "    }\n",
       "</style>\n",
       "<table border=\"1\" class=\"dataframe\">\n",
       "  <thead>\n",
       "    <tr style=\"text-align: right;\">\n",
       "      <th></th>\n",
       "      <th>Unnamed: 0</th>\n",
       "      <th>corpus-id</th>\n",
       "      <th>num-positive-query-gt</th>\n",
       "      <th>tp_over_t</th>\n",
       "      <th>tp_over_p</th>\n",
       "    </tr>\n",
       "  </thead>\n",
       "  <tbody>\n",
       "    <tr>\n",
       "      <th>0</th>\n",
       "      <td>1675</td>\n",
       "      <td>i1lyno9g</td>\n",
       "      <td>4</td>\n",
       "      <td>0.250000</td>\n",
       "      <td>1.0</td>\n",
       "    </tr>\n",
       "    <tr>\n",
       "      <th>1</th>\n",
       "      <td>2067</td>\n",
       "      <td>xpbcoipf</td>\n",
       "      <td>4</td>\n",
       "      <td>0.250000</td>\n",
       "      <td>1.0</td>\n",
       "    </tr>\n",
       "    <tr>\n",
       "      <th>2</th>\n",
       "      <td>2032</td>\n",
       "      <td>gmk4qo4i</td>\n",
       "      <td>4</td>\n",
       "      <td>0.250000</td>\n",
       "      <td>0.5</td>\n",
       "    </tr>\n",
       "    <tr>\n",
       "      <th>3</th>\n",
       "      <td>2021</td>\n",
       "      <td>lysvg3vw</td>\n",
       "      <td>4</td>\n",
       "      <td>0.250000</td>\n",
       "      <td>1.0</td>\n",
       "    </tr>\n",
       "    <tr>\n",
       "      <th>4</th>\n",
       "      <td>2010</td>\n",
       "      <td>r0gr0bhl</td>\n",
       "      <td>4</td>\n",
       "      <td>0.250000</td>\n",
       "      <td>1.0</td>\n",
       "    </tr>\n",
       "    <tr>\n",
       "      <th>...</th>\n",
       "      <td>...</td>\n",
       "      <td>...</td>\n",
       "      <td>...</td>\n",
       "      <td>...</td>\n",
       "      <td>...</td>\n",
       "    </tr>\n",
       "    <tr>\n",
       "      <th>65</th>\n",
       "      <td>905</td>\n",
       "      <td>jc9ugexn</td>\n",
       "      <td>4</td>\n",
       "      <td>0.250000</td>\n",
       "      <td>1.0</td>\n",
       "    </tr>\n",
       "    <tr>\n",
       "      <th>66</th>\n",
       "      <td>906</td>\n",
       "      <td>vxqdfiel</td>\n",
       "      <td>4</td>\n",
       "      <td>0.250000</td>\n",
       "      <td>1.0</td>\n",
       "    </tr>\n",
       "    <tr>\n",
       "      <th>67</th>\n",
       "      <td>898</td>\n",
       "      <td>7y87ktmi</td>\n",
       "      <td>4</td>\n",
       "      <td>0.250000</td>\n",
       "      <td>1.0</td>\n",
       "    </tr>\n",
       "    <tr>\n",
       "      <th>68</th>\n",
       "      <td>945</td>\n",
       "      <td>eitnkdi9</td>\n",
       "      <td>4</td>\n",
       "      <td>0.250000</td>\n",
       "      <td>0.5</td>\n",
       "    </tr>\n",
       "    <tr>\n",
       "      <th>69</th>\n",
       "      <td>937</td>\n",
       "      <td>iymmf4k6</td>\n",
       "      <td>6</td>\n",
       "      <td>0.333333</td>\n",
       "      <td>1.0</td>\n",
       "    </tr>\n",
       "  </tbody>\n",
       "</table>\n",
       "<p>70 rows × 5 columns</p>\n",
       "</div>"
      ],
      "text/plain": [
       "    Unnamed: 0 corpus-id  num-positive-query-gt  tp_over_t  tp_over_p\n",
       "0         1675  i1lyno9g                      4   0.250000        1.0\n",
       "1         2067  xpbcoipf                      4   0.250000        1.0\n",
       "2         2032  gmk4qo4i                      4   0.250000        0.5\n",
       "3         2021  lysvg3vw                      4   0.250000        1.0\n",
       "4         2010  r0gr0bhl                      4   0.250000        1.0\n",
       "..         ...       ...                    ...        ...        ...\n",
       "65         905  jc9ugexn                      4   0.250000        1.0\n",
       "66         906  vxqdfiel                      4   0.250000        1.0\n",
       "67         898  7y87ktmi                      4   0.250000        1.0\n",
       "68         945  eitnkdi9                      4   0.250000        0.5\n",
       "69         937  iymmf4k6                      6   0.333333        1.0\n",
       "\n",
       "[70 rows x 5 columns]"
      ]
     },
     "execution_count": 104,
     "metadata": {},
     "output_type": "execute_result"
    }
   ],
   "source": [
    "succ_df_selected = succ_df[succ_df[\"tp_over_t\"] < 0.35]\n",
    "succ_ids_selected = succ_df_selected.index.tolist()\n",
    "succ_docs_selected = [succ_docs[i] for i  in succ_ids_selected]\n",
    "succ_df_selected"
   ]
  },
  {
   "cell_type": "code",
   "execution_count": 96,
   "id": "fc16b1d0-e9ce-468f-a457-3d3125d4c401",
   "metadata": {},
   "outputs": [],
   "source": [
    "succ_positives = get_positives(succ_path)\n",
    "succ_positives_selected = [succ_positives[i] for i in succ_ids_selected]"
   ]
  },
  {
   "cell_type": "code",
   "execution_count": 97,
   "id": "119b40bc-a13c-4d8d-a815-c6c0ffd84f46",
   "metadata": {},
   "outputs": [],
   "source": [
    "succ_negatives = get_negatives(succ_path)\n",
    "succ_negatives_selected = [succ_negatives[i] for i in succ_ids_selected]"
   ]
  },
  {
   "cell_type": "code",
   "execution_count": 98,
   "id": "e4199464-75a2-4ac4-8a47-077ed3b266ce",
   "metadata": {},
   "outputs": [],
   "source": [
    "def generate_dataset(docs, positives, negatives):\n",
    "    dataset = []\n",
    "    for i in range(len(docs)):\n",
    "        query = docs[i]\n",
    "        positives_selected = []\n",
    "        negatives_selected = []\n",
    "        for j, doc in enumerate(positives[i]):\n",
    "            if len(negatives[i][j]) == num_negatives_per_positive:\n",
    "                positives_selected.append(doc)\n",
    "                negatives_selected.append(negatives[i][j])\n",
    "            if len(positives_selected) == 4:\n",
    "                break\n",
    "        for p, ns in zip(positives_selected, negatives_selected):\n",
    "            dataset.append({\n",
    "                \"query\": query,\n",
    "                \"pos\": [p],\n",
    "                \"neg\": ns\n",
    "            })\n",
    "    return dataset\n"
   ]
  },
  {
   "cell_type": "code",
   "execution_count": 99,
   "id": "18c2100d-ba75-40e9-8ceb-46194d5a264d",
   "metadata": {
    "scrolled": true
   },
   "outputs": [
    {
     "name": "stdout",
     "output_type": "stream",
     "text": [
      "{'query': 'Importance: The pandemic of coronavirus disease 2019 (COVID-19) caused by the novel severe acute respiratory syndrome coronavirus 2 (SARS-CoV-2) presents an unprecedented challenge to identify effective drugs for prevention and treatment. Given the rapid pace of scientific discovery and clinical data generated by the large number of people rapidly infected by SARS-CoV-2, clinicians need accurate evidence regarding effective medical treatments for this infection. Observations: No proven effective therapies for this virus currently exist. The rapidly expanding knowledge regarding SARS-CoV-2 virology provides a significant number of potential drug targets. The most promising therapy is remdesivir. Remdesivir has potent in vitro activity against SARS-CoV-2, but it is not US Food and Drug Administration approved and currently is being tested in ongoing randomized trials. Oseltamivir has not been shown to have efficacy, and corticosteroids are currently not recommended. Current clinical evidence does not support stopping angiotensin-converting enzyme inhibitors or angiotensin receptor blockers in patients with COVID-19. Conclusions and Relevance: The COVID-19 pandemic represents the greatest global public health crisis of this generation and, potentially, since the pandemic influenza outbreak of 1918. The speed and volume of clinical trials launched to investigate potential therapies for COVID-19 highlight both the need and capability to produce high-quality evidence even in the middle of a pandemic. No therapies have been shown effective to date.', 'pos': [\"BACKGROUND: Severe acute respiratory syndrome coronavirus 2 (SARS-CoV-2), termed coronavirus disease 2019 (COVID-19) by the World Health Organization, is a newly emerging zoonotic agent that emerged in China in December 2019. No specific treatment for COVID-19 is currently available. Usual palliative treatment includes maintaining hydration and nutrition and controlling fever and cough. The clinical severity and extent of transmission need to be determined, and therapeutic options need to be developed and optimized. METHODS: The present review discusses the recent repurposing of drugs for COVID-19 treatment. RESULTS: Several compounds, including remdesivir, lopinavir, ritonavir, interferon-ß, ribavirin, chloroquine/hydroxychloroquine, azithromycin, tocilizumab, and ivermectin, have emerged as promising alternatives. They block the virus from entering host cells, prevent viral replication, and attenuate exacerbation of the host's immune response. CONCLUSION: Although some evidence indicates the positive actions of different classes of compounds for the treatment of COVID-19, few clinical assays have been established to definitively demonstrate their therapeutic value in humans. Multicenter clinical studies are urgently needed to validate and standardize therapeutic regimens that involve these agents. Although science has not yet presented us with a specific drug against COVID-19, the repurposing of drugs appears to be promising in our fight against this devastating disease.\"], 'neg': ['The emergence of severe acute respiratory syndrome coronavirus 2 (SARS-CoV-2), the causative agent of coronavirus disease 2019 (COVID-19), has resulted in > 500,000 deaths worldwide, including > 125,000 deaths in the U.S. since its emergence in late December 2019 and June 2020. Neither curative anti-viral drugs nor a protective vaccine is currently available for the treatment and prevention of COVID-19. Recently, new clinical syndromes associated with coagulopathy and vasculopathy have emerged as a cause of sudden death and other serious clinical manifestations in younger patients infected with SARS-CoV-2 infection. Angiotensin converting enzyme 2 (ACE2), the receptor for SARS-CoV-2 and other coronaviruses, is a transmembrane protein expressed by lung alveolar epithelial cells, enterocytes, and vascular endothelial cells, whose physiologic role is to induce the maturation of angiotensin I to generate angiotensin 1-7, a peptide hormone that controls vasoconstriction and blood pressure. In this review, we provide the general context of the molecular and cellular mechanisms of SARS-CoV-2 infection with a focus on endothelial cells, describe the vasculopathy and coagulopathy syndromes in patients with SARS-CoV-2, and outline current understanding of the underlying mechanistic aspects.', 'The emergence of severe acute respiratory syndrome coronavirus 2 (SARS-CoV-2), the causative agent of coronavirus disease 2019 (COVID-19), has resulted in > 500,000 deaths worldwide, including > 125,000 deaths in the U.S. since its emergence in late December 2019 and June 2020. Neither curative anti-viral drugs nor a protective vaccine is currently available for the treatment and prevention of COVID-19. Recently, new clinical syndromes associated with coagulopathy and vasculopathy have emerged as a cause of sudden death and other serious clinical manifestations in younger patients infected with SARS-CoV-2 infection. Angiotensin converting enzyme 2 (ACE2), the receptor for SARS-CoV-2 and other coronaviruses, is a transmembrane protein expressed by lung alveolar epithelial cells, enterocytes, and vascular endothelial cells, whose physiologic role is to induce the maturation of angiotensin I to generate angiotensin 1-7, a peptide hormone that controls vasoconstriction and blood pressure. In this review, we provide the general context of the molecular and cellular mechanisms of SARS-CoV-2 infection with a focus on endothelial cells, describe the vasculopathy and coagulopathy syndromes in patients with SARS-CoV-2, and outline current understanding of the underlying mechanistic aspects.', 'Coronavirus disease 2019 (COVID-19) is a global pandemic caused by a novel severe acute respiratory syndrome coronavirus-2 (SARS-CoV-2). SARS-CoV-2 infection of host cells occurs predominantly via binding of the viral surface spike protein to the human angiotensin-converting enzyme 2 (ACE2) receptor. Hypertension and pre-existing cardiovascular disease are risk factors for morbidity from COVID-19, and it remains uncertain whether the use of angiotensin converting enzyme inhibitors (ACEi) or angiotensin receptor blockers (ARB) impacts infection and disease. Here, we aim to shed light on this question by assessing ACE2 expression in normal and diseased human myocardial samples profiled by bulk and single nucleus RNA-seq.', 'Abstract The pandemic of coronavirus disease 2019 (COVID-19) has emerged as a major health crisis, with the severe acute respiratory syndrome coronavirus 2 (SARS-CoV-2) having infected over a million people around the world within a few months of its identification as a human pathogen. Initially, SARS-CoV-2 infects cells in the respiratory system and causes inflammation and cell death. Subsequently, the virus spreads out and damages other vital organs and tissues, triggering a complicated spectrum of pathophysiological changes and symptoms, including cardiovascular complications. Acting as the receptor for SARS-CoV entering mammalian cells, angiotensin converting enzyme-2 (ACE2) plays a pivotal role in the regulation of cardiovascular cell function. Diverse clinical manifestations and laboratory abnormalities occur in patients with cardiovascular injury in COVID-19, characterizing the development of this complication, as well as providing clues to diagnosis and treatment. This review provides a summary of the rapidly appearing laboratory and clinical evidence for the pathophysiology and therapeutic approaches to COVID-19 pulmonary and cardiovascular complications.', 'Coronavirus disease 2019 (COVID-19) caused by severe acute respiratory syndrome coronavirus 2 (SARS-CoV-2) represents the most significant global public health crisis of this generation. From the beginning of the pandemic, several publications and on-line resources about different treatment lines have been done, and development effort in response to the COVID-19 pandemic to investigate potential therapies is unprecedented. Unfortunately, until now, there is not enough evidence to recommend any specific anti-COVID19 treatment. Randomized clinical trials and high-quality evidence, even in the middle of a pandemic, are needed. We provide a review of the latest published literature on the therapeutic strategies and current investigational lines for SARS-CoV-2.']}\n"
     ]
    }
   ],
   "source": [
    "succ_dataset_selected = generate_dataset(succ_docs_selected, succ_positives_selected, succ_negatives_selected)\n",
    "print(succ_dataset_selected[0])\n",
    "with open(\"trec-covid/ood_well_over_0.4.json\", \"w\") as f:\n",
    "    json.dump(succ_dataset_selected, f, indent=2)"
   ]
  },
  {
   "cell_type": "markdown",
   "id": "32ea2466-9149-4242-bc57-9c726f07c63d",
   "metadata": {},
   "source": [
    "# Plot grad norm result"
   ]
  },
  {
   "cell_type": "code",
   "execution_count": 111,
   "id": "c3940c3f-f74e-41f0-90d8-f2cd822cc838",
   "metadata": {},
   "outputs": [
    {
     "name": "stdout",
     "output_type": "stream",
     "text": [
      "err\n",
      "err\n",
      "err\n",
      "err\n",
      "err\n"
     ]
    },
    {
     "data": {
      "text/plain": [
       "<matplotlib.legend.Legend at 0x7f09db8fb610>"
      ]
     },
     "execution_count": 111,
     "metadata": {},
     "output_type": "execute_result"
    },
    {
     "data": {
      "image/png": "[encoded data removed]",
      "text/plain": [
       "<Figure size 640x480 with 1 Axes>"
      ]
     },
     "metadata": {},
     "output_type": "display_data"
    }
   ],
   "source": [
    "pth = \"/gallery_louvre/dayoon.ko/research/sds/FlagEmbedding/FlagEmbedding/BGE_M3/\"\n",
    "\n",
    "def load_file(pth):\n",
    "    with open(pth) as f:\n",
    "        lines = f.readlines() \n",
    "    return lines \n",
    "\n",
    "def get_score_list(pth):\n",
    "    lines = load_file(pth)\n",
    "    gns = []\n",
    "    for l in lines:\n",
    "        try:\n",
    "            sid = l.index(\"tensor(\") + len(\"tensor(\") \n",
    "            eid = sid + 5\n",
    "            gns.append(float(l[sid:eid]))\n",
    "        except:\n",
    "            print(\"err\")\n",
    "            continue\n",
    "    return gns \n",
    "    \n",
    "ood_well_pth_o = pth + \"id_o\"\n",
    "ood_well_o = get_score_list(ood_well_pth_o)\n",
    "\n",
    "ood_well_pth_b = pth + \"id_b\"\n",
    "ood_well_b = get_score_list(ood_well_pth_b)\n",
    "\n",
    "ood_poor_pth = pth + \"ood\"\n",
    "ood_poor = get_score_list(ood_poor_pth)\n",
    "\n",
    "import matplotlib.pyplot as plt \n",
    "plt.figure()\n",
    "plt.plot(ood_well_b, len(ood_well_b) * [0], \"o\" , label = \"ood-well(tp_over_t<0.4)\", color=\"green\")\n",
    "plt.plot(ood_well_o, len(ood_well_o) * [0], \"o\" , label = \"ood-well(tp_over_t>0.4)\", color=\"blue\")\n",
    "plt.plot(ood_poor, len(ood_poor) * [1], \"x\" , label = \"ood-poor\", color=\"red\")\n",
    "plt.legend()\n",
    " "
   ]
  },
  {
   "cell_type": "code",
   "execution_count": null,
   "id": "2b6f3726-bab4-4c3d-b332-bca02277434d",
   "metadata": {},
   "outputs": [],
   "source": []
  }
 ],
 "metadata": {
  "kernelspec": {
   "display_name": "Python 3 (ipykernel)",
   "language": "python",
   "name": "python3"
  },
  "language_info": {
   "codemirror_mode": {
    "name": "ipython",
    "version": 3
   },
   "file_extension": ".py",
   "mimetype": "text/x-python",
   "name": "python",
   "nbconvert_exporter": "python",
   "pygments_lexer": "ipython3",
   "version": "3.10.0"
  }
 },
 "nbformat": 4,
 "nbformat_minor": 5
}
