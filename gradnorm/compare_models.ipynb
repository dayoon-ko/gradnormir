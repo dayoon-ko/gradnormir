{
 "cells": [
  {
   "cell_type": "code",
   "execution_count": 1,
   "id": "ccae77bf-79a7-4b61-a557-477416c2cccc",
   "metadata": {},
   "outputs": [],
   "source": [
    "import json\n",
    "import pandas as pd\n",
    "#model_name = [\"bge-large-en-v1.5\" , \"contriever\", \"gte-base\", \"multilingual-e5-large\"]\n",
    "#dataset_name = [\"nfcorpus\", \"trec-covid\"]"
   ]
  },
  {
   "cell_type": "code",
   "execution_count": null,
   "id": "db25d39a-6bb9-4fb5-96f3-9d446a300435",
   "metadata": {},
   "outputs": [],
   "source": [
    "def cal_ndcg(\n",
    "    model_name,\n",
    "    dataset_name\n",
    "):\n",
    "    pass\n",
    "\n",
    "def cal_recall(\n",
    "    model_name, \n",
    "    retrieval_results, \n",
    "    gt\n",
    "):\n",
    "    for ret in retrieval_results:\n",
    "        qid = ret[\"_id\"]\n",
    "        gt = gt[qid]\n",
    "        ret_ids = ret[\"retrieval\"]\n",
    "\n"
   ]
  },
  {
   "cell_type": "code",
   "execution_count": null,
   "id": "ee4b245d-6d10-4d0b-95e0-0666256ef724",
   "metadata": {},
   "outputs": [],
   "source": [
    "def cal_recall(\n",
    "    dataset_name\n",
    "    top_k=100\n",
    "):\n",
    "    qrels = pd.read_csv(f\"/gallery_louvre/dayoon.ko/research/sds/src/datasets/{dataset_name}/qrels/{mode}.tsv\", sep=\"\\t\")\n",
    "    qrels = qrels[qrels[\"score\"] >= 1].sort_values(\"corpus-id\")\n",
    "    \n",
    "    # Time consuming\n",
    "    gt = {}\n",
    "    for k in qrels[\"corpus-id\"].unique():\n",
    "        qrels_ = qrels[qrels[\"corpus-id\"] == k]\n",
    "        v = qrels_[\"query-id\"].tolist()\n",
    "        gt[k] = v\n",
    "\n",
    "    for model_name in [\"bge-large-en-v1.5\" , \"contriever\", \"gte-base\", \"multilingual-e5-large\"]:\n",
    "        with open(f\"results/{model_name}/{dataset_name}.jsonl\") as f:\n",
    "            retrieval_results = [json.loads(i) for i in f.readlines()]\n",
    "        #cal_ndcg(model_name, retrieval_results, gt)\n",
    "        cal_recall(model_name, retrieval_results, gt)"
   ]
  },
  {
   "cell_type": "code",
   "execution_count": 2,
   "id": "7b788dc0-2f81-438c-92d5-1a54301c7c65",
   "metadata": {},
   "outputs": [
    {
     "ename": "FileNotFoundError",
     "evalue": "[Errno 2] No such file or directory: 'results/bge-large-en-v1.5/nfcorpus.jsonl'",
     "output_type": "error",
     "traceback": [
      "\u001b[0;31m---------------------------------------------------------------------------\u001b[0m",
      "\u001b[0;31mFileNotFoundError\u001b[0m                         Traceback (most recent call last)",
      "Cell \u001b[0;32mIn[2], line 9\u001b[0m\n\u001b[1;32m      6\u001b[0m qrels \u001b[38;5;241m=\u001b[39m qrels[qrels[\u001b[38;5;124m\"\u001b[39m\u001b[38;5;124mscore\u001b[39m\u001b[38;5;124m\"\u001b[39m] \u001b[38;5;241m>\u001b[39m\u001b[38;5;241m=\u001b[39m \u001b[38;5;241m1\u001b[39m]\u001b[38;5;241m.\u001b[39msort_values(\u001b[38;5;124m\"\u001b[39m\u001b[38;5;124mcorpus-id\u001b[39m\u001b[38;5;124m\"\u001b[39m)\n\u001b[1;32m      8\u001b[0m \u001b[38;5;66;03m# Time consuming\u001b[39;00m\n\u001b[0;32m----> 9\u001b[0m \u001b[38;5;28;01mwith\u001b[39;00m \u001b[38;5;28;43mopen\u001b[39;49m\u001b[43m(\u001b[49m\u001b[38;5;124;43mf\u001b[39;49m\u001b[38;5;124;43m\"\u001b[39;49m\u001b[38;5;124;43mresults/\u001b[39;49m\u001b[38;5;132;43;01m{\u001b[39;49;00m\u001b[43mmodel_name\u001b[49m\u001b[38;5;132;43;01m}\u001b[39;49;00m\u001b[38;5;124;43m/\u001b[39;49m\u001b[38;5;132;43;01m{\u001b[39;49;00m\u001b[43mdataset_name\u001b[49m\u001b[38;5;132;43;01m}\u001b[39;49;00m\u001b[38;5;124;43m.jsonl\u001b[39;49m\u001b[38;5;124;43m\"\u001b[39;49m\u001b[43m)\u001b[49m \u001b[38;5;28;01mas\u001b[39;00m f:\n\u001b[1;32m     10\u001b[0m     retrieval_results \u001b[38;5;241m=\u001b[39m [json\u001b[38;5;241m.\u001b[39mloads(i) \u001b[38;5;28;01mfor\u001b[39;00m i \u001b[38;5;129;01min\u001b[39;00m f\u001b[38;5;241m.\u001b[39mreadlines()]\n\u001b[1;32m     11\u001b[0m gt \u001b[38;5;241m=\u001b[39m {}\n",
      "File \u001b[0;32m~/anaconda3/envs/sds/lib/python3.9/site-packages/IPython/core/interactiveshell.py:310\u001b[0m, in \u001b[0;36m_modified_open\u001b[0;34m(file, *args, **kwargs)\u001b[0m\n\u001b[1;32m    303\u001b[0m \u001b[38;5;28;01mif\u001b[39;00m file \u001b[38;5;129;01min\u001b[39;00m {\u001b[38;5;241m0\u001b[39m, \u001b[38;5;241m1\u001b[39m, \u001b[38;5;241m2\u001b[39m}:\n\u001b[1;32m    304\u001b[0m     \u001b[38;5;28;01mraise\u001b[39;00m \u001b[38;5;167;01mValueError\u001b[39;00m(\n\u001b[1;32m    305\u001b[0m         \u001b[38;5;124mf\u001b[39m\u001b[38;5;124m\"\u001b[39m\u001b[38;5;124mIPython won\u001b[39m\u001b[38;5;124m'\u001b[39m\u001b[38;5;124mt let you open fd=\u001b[39m\u001b[38;5;132;01m{\u001b[39;00mfile\u001b[38;5;132;01m}\u001b[39;00m\u001b[38;5;124m by default \u001b[39m\u001b[38;5;124m\"\u001b[39m\n\u001b[1;32m    306\u001b[0m         \u001b[38;5;124m\"\u001b[39m\u001b[38;5;124mas it is likely to crash IPython. If you know what you are doing, \u001b[39m\u001b[38;5;124m\"\u001b[39m\n\u001b[1;32m    307\u001b[0m         \u001b[38;5;124m\"\u001b[39m\u001b[38;5;124myou can use builtins\u001b[39m\u001b[38;5;124m'\u001b[39m\u001b[38;5;124m open.\u001b[39m\u001b[38;5;124m\"\u001b[39m\n\u001b[1;32m    308\u001b[0m     )\n\u001b[0;32m--> 310\u001b[0m \u001b[38;5;28;01mreturn\u001b[39;00m \u001b[43mio_open\u001b[49m\u001b[43m(\u001b[49m\u001b[43mfile\u001b[49m\u001b[43m,\u001b[49m\u001b[43m \u001b[49m\u001b[38;5;241;43m*\u001b[39;49m\u001b[43margs\u001b[49m\u001b[43m,\u001b[49m\u001b[43m \u001b[49m\u001b[38;5;241;43m*\u001b[39;49m\u001b[38;5;241;43m*\u001b[39;49m\u001b[43mkwargs\u001b[49m\u001b[43m)\u001b[49m\n",
      "\u001b[0;31mFileNotFoundError\u001b[0m: [Errno 2] No such file or directory: 'results/bge-large-en-v1.5/nfcorpus.jsonl'"
     ]
    }
   ],
   "source": [
    "model_name = [\"bge-large-en-v1.5\" , \"contriever\", \"gte-base\", \"multilingual-e5-large\"][0]\n",
    "dataset_name=\"nfcorpus\"\n",
    "mode=\"test\"\n",
    "\n",
    "qrels = pd.read_csv(f\"/gallery_louvre/dayoon.ko/research/sds/src/datasets/{dataset_name}/qrels/{mode}.tsv\", sep=\"\\t\")\n",
    "qrels = qrels[qrels[\"score\"] >= 1].sort_values(\"corpus-id\")\n",
    "\n",
    "# Time consuming\n",
    "with open(f\"results/{model_name}/{dataset_name}.jsonl\") as f:\n",
    "    retrieval_results = [json.loads(i) for i in f.readlines()]\n",
    "gt = {}\n",
    "for k in qrels[\"corpus-id\"].unique():\n",
    "    qrels_ = qrels[qrels[\"corpus-id\"] == k]\n",
    "    v = qrels_[\"query-id\"].tolist()\n",
    "    gt[k] = v"
   ]
  },
  {
   "cell_type": "code",
   "execution_count": null,
   "id": "4b1d6687-513e-43f7-962b-dc4db3f2b73a",
   "metadata": {},
   "outputs": [],
   "source": [
    "model_name = [\"bge-large-en-v1.5\" , \"contriever\", \"gte-base\", \"multilingual-e5-large\"][0]\n",
    "#cal_ndcg(model_name, retrieval_results, gt)\n",
    "cal_recall(model_name, retrieval_results, gt)"
   ]
  }
 ],
 "metadata": {
  "kernelspec": {
   "display_name": "Python 3 (ipykernel)",
   "language": "python",
   "name": "python3"
  },
  "language_info": {
   "codemirror_mode": {
    "name": "ipython",
    "version": 3
   },
   "file_extension": ".py",
   "mimetype": "text/x-python",
   "name": "python",
   "nbconvert_exporter": "python",
   "pygments_lexer": "ipython3",
   "version": "3.9.0"
  }
 },
 "nbformat": 4,
 "nbformat_minor": 5
}
