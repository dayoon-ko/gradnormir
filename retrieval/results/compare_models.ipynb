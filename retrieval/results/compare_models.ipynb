{
 "cells": [
  {
   "cell_type": "code",
   "execution_count": 112,
   "id": "ccae77bf-79a7-4b61-a557-477416c2cccc",
   "metadata": {},
   "outputs": [],
   "source": [
    "import json\n",
    "import pandas as pd\n",
    "#model_name = [\"bge-large-en-v1.5\" , \"contriever\", \"gte-base\", \"multilingual-e5-large\"]\n",
    "#dataset_name = [\"nfcorpus\", \"trec-covid\"]"
   ]
  },
  {
   "cell_type": "code",
   "execution_count": 140,
   "id": "db25d39a-6bb9-4fb5-96f3-9d446a300435",
   "metadata": {},
   "outputs": [],
   "source": [
    "def cal_ndcg(\n",
    "    model_name,\n",
    "    dataset_name\n",
    "):\n",
    "    pass\n",
    "\n",
    "def cal_recall(\n",
    "    model_name, \n",
    "    retrieval_results, \n",
    "    gt\n",
    "):\n",
    "    recall = 0\n",
    "    count = 0\n",
    "    for qid, ret_ids in retrieval_results.items():\n",
    "        if qid not in gt:\n",
    "            continue\n",
    "        gt_ids = gt[qid]\n",
    "        inter = len(set(ret_ids) & set(gt_ids))\n",
    "        recall += inter / (len(gt_ids))\n",
    "        count += 1\n",
    "    print(f\"Model: {model_name} / Metric: {round(recall / count * 100, 2)}\")\n",
    "\n"
   ]
  },
  {
   "cell_type": "code",
   "execution_count": 146,
   "id": "ee4b245d-6d10-4d0b-95e0-0666256ef724",
   "metadata": {},
   "outputs": [],
   "source": [
    "def print_results(\n",
    "    dataset_name,\n",
    "    top_k=100\n",
    "):\n",
    "    qrels = pd.read_csv(f\"/gallery_louvre/dayoon.ko/research/sds/src/datasets/{dataset_name}/qrels/{mode}.tsv\", sep=\"\\t\")\n",
    "    qrels = qrels[qrels[\"score\"] >= 1].sort_values(\"corpus-id\")\n",
    "\n",
    "    # Get ground truth results\n",
    "    gt = {}\n",
    "    for k in qrels[\"query-id\"].unique():\n",
    "        qrels_ = qrels[qrels[\"query-id\"] == k]\n",
    "        v = qrels_[\"corpus-id\"].tolist()\n",
    "        gt[str(k)] = v\n",
    "\n",
    "    # For each model, calculate the metric\n",
    "    for model_name in [\"bge-large-en-v1.5\" , \"contriever\", \"gte-base\", \"multilingual-e5-large\"]:\n",
    "        with open(f\"{model_name}/{dataset_name}.jsonl\") as f:\n",
    "            results = [json.loads(i) for i in f.readlines()]\n",
    "        retrieval_results = {str(i[\"_id\"]): [ret[\"_id\"] for ret in i[\"retrieval\"]] for i in results}\n",
    "        #cal_ndcg(model_name, retrieval_results, gt)\n",
    "        cal_recall(model_name, retrieval_results, gt)"
   ]
  },
  {
   "cell_type": "code",
   "execution_count": 145,
   "id": "8072634e-11d8-471d-8b5d-83bbae183780",
   "metadata": {},
   "outputs": [
    {
     "name": "stdout",
     "output_type": "stream",
     "text": [
      "Total: 3237 retrievals\n",
      "Model: bge-large-en-v1.5 / Metric: 35.41\n",
      "Total: 3237 retrievals\n",
      "Model: contriever / Metric: 26.22\n",
      "Total: 3237 retrievals\n",
      "Model: gte-base / Metric: 34.58\n",
      "Total: 3237 retrievals\n",
      "Model: multilingual-e5-large / Metric: 29.58\n"
     ]
    }
   ],
   "source": [
    "print_results(\"nfcorpus\")"
   ]
  },
  {
   "cell_type": "code",
   "execution_count": 147,
   "id": "dfe7d25f-058d-485f-95f8-e828a743f970",
   "metadata": {},
   "outputs": [
    {
     "name": "stdout",
     "output_type": "stream",
     "text": [
      "Model: bge-large-en-v1.5 / Metric: 12.61\n",
      "Model: contriever / Metric: 1.56\n",
      "Model: gte-base / Metric: 13.99\n",
      "Model: multilingual-e5-large / Metric: 12.09\n"
     ]
    }
   ],
   "source": [
    "print_results(\"trec-covid\")"
   ]
  },
  {
   "cell_type": "markdown",
   "id": "98e8bb06-7936-439f-a0a5-05e77908ad89",
   "metadata": {},
   "source": [
    "## Check trec-covid"
   ]
  },
  {
   "cell_type": "code",
   "execution_count": 149,
   "id": "4d2ae4a8-b2cf-4a54-9ce9-23844111bc69",
   "metadata": {},
   "outputs": [],
   "source": [
    "# Load datasets\n",
    "org = pd.read_csv(f\"/gallery_louvre/dayoon.ko/research/sds/src/datasets/trec-covid/qrels/test.tsv\", sep=\"\\t\")\n",
    "v2 = pd.read_csv(f\"/gallery_louvre/dayoon.ko/research/sds/src/datasets/trec-covid-v2/qrels/test.tsv\", sep=\"\\t\")\n",
    "beir = pd.read_csv(f\"/gallery_louvre/dayoon.ko/research/sds/src/datasets/trec-covid-beir/qrels/test.tsv\", sep=\"\\t\")"
   ]
  },
  {
   "cell_type": "code",
   "execution_count": 162,
   "id": "071a9173-f71e-4f53-8cb9-863fade2f13a",
   "metadata": {},
   "outputs": [
    {
     "data": {
      "text/plain": [
       "36016"
      ]
     },
     "execution_count": 162,
     "metadata": {},
     "output_type": "execute_result"
    }
   ],
   "source": [
    "len(beir[\"corpus-id\"].unique())"
   ]
  },
  {
   "cell_type": "code",
   "execution_count": 151,
   "id": "87905be6-9c28-44c9-b38c-09d0789acc2f",
   "metadata": {},
   "outputs": [
    {
     "data": {
      "text/html": [
       "<div>\n",
       "<style scoped>\n",
       "    .dataframe tbody tr th:only-of-type {\n",
       "        vertical-align: middle;\n",
       "    }\n",
       "\n",
       "    .dataframe tbody tr th {\n",
       "        vertical-align: top;\n",
       "    }\n",
       "\n",
       "    .dataframe thead th {\n",
       "        text-align: right;\n",
       "    }\n",
       "</style>\n",
       "<table border=\"1\" class=\"dataframe\">\n",
       "  <thead>\n",
       "    <tr style=\"text-align: right;\">\n",
       "      <th></th>\n",
       "      <th>query-id</th>\n",
       "      <th>corpus-id</th>\n",
       "      <th>score</th>\n",
       "    </tr>\n",
       "  </thead>\n",
       "  <tbody>\n",
       "    <tr>\n",
       "      <th>0</th>\n",
       "      <td>1</td>\n",
       "      <td>005b2j4b</td>\n",
       "      <td>2</td>\n",
       "    </tr>\n",
       "    <tr>\n",
       "      <th>1</th>\n",
       "      <td>1</td>\n",
       "      <td>00fmeepz</td>\n",
       "      <td>1</td>\n",
       "    </tr>\n",
       "    <tr>\n",
       "      <th>2</th>\n",
       "      <td>1</td>\n",
       "      <td>g7dhmyyo</td>\n",
       "      <td>2</td>\n",
       "    </tr>\n",
       "    <tr>\n",
       "      <th>3</th>\n",
       "      <td>1</td>\n",
       "      <td>0194oljo</td>\n",
       "      <td>1</td>\n",
       "    </tr>\n",
       "    <tr>\n",
       "      <th>4</th>\n",
       "      <td>1</td>\n",
       "      <td>021q9884</td>\n",
       "      <td>1</td>\n",
       "    </tr>\n",
       "    <tr>\n",
       "      <th>...</th>\n",
       "      <td>...</td>\n",
       "      <td>...</td>\n",
       "      <td>...</td>\n",
       "    </tr>\n",
       "    <tr>\n",
       "      <th>56723</th>\n",
       "      <td>50</td>\n",
       "      <td>zv4nbz9p</td>\n",
       "      <td>2</td>\n",
       "    </tr>\n",
       "    <tr>\n",
       "      <th>56724</th>\n",
       "      <td>50</td>\n",
       "      <td>zvop8bxh</td>\n",
       "      <td>2</td>\n",
       "    </tr>\n",
       "    <tr>\n",
       "      <th>56725</th>\n",
       "      <td>50</td>\n",
       "      <td>zwf26o63</td>\n",
       "      <td>1</td>\n",
       "    </tr>\n",
       "    <tr>\n",
       "      <th>56726</th>\n",
       "      <td>50</td>\n",
       "      <td>zwsvlnwe</td>\n",
       "      <td>0</td>\n",
       "    </tr>\n",
       "    <tr>\n",
       "      <th>56727</th>\n",
       "      <td>50</td>\n",
       "      <td>zxr01yln</td>\n",
       "      <td>1</td>\n",
       "    </tr>\n",
       "  </tbody>\n",
       "</table>\n",
       "<p>56728 rows × 3 columns</p>\n",
       "</div>"
      ],
      "text/plain": [
       "       query-id corpus-id  score\n",
       "0             1  005b2j4b      2\n",
       "1             1  00fmeepz      1\n",
       "2             1  g7dhmyyo      2\n",
       "3             1  0194oljo      1\n",
       "4             1  021q9884      1\n",
       "...         ...       ...    ...\n",
       "56723        50  zv4nbz9p      2\n",
       "56724        50  zvop8bxh      2\n",
       "56725        50  zwf26o63      1\n",
       "56726        50  zwsvlnwe      0\n",
       "56727        50  zxr01yln      1\n",
       "\n",
       "[56728 rows x 3 columns]"
      ]
     },
     "execution_count": 151,
     "metadata": {},
     "output_type": "execute_result"
    }
   ],
   "source": [
    "v2"
   ]
  },
  {
   "cell_type": "code",
   "execution_count": null,
   "id": "f67dc5d9-ed20-4895-8ab7-cac77972aad4",
   "metadata": {},
   "outputs": [],
   "source": []
  },
  {
   "cell_type": "code",
   "execution_count": 152,
   "id": "d27a0535-35dc-48ae-93f5-1efd4174a066",
   "metadata": {},
   "outputs": [
    {
     "data": {
      "text/html": [
       "<div>\n",
       "<style scoped>\n",
       "    .dataframe tbody tr th:only-of-type {\n",
       "        vertical-align: middle;\n",
       "    }\n",
       "\n",
       "    .dataframe tbody tr th {\n",
       "        vertical-align: top;\n",
       "    }\n",
       "\n",
       "    .dataframe thead th {\n",
       "        text-align: right;\n",
       "    }\n",
       "</style>\n",
       "<table border=\"1\" class=\"dataframe\">\n",
       "  <thead>\n",
       "    <tr style=\"text-align: right;\">\n",
       "      <th></th>\n",
       "      <th>query-id</th>\n",
       "      <th>corpus-id</th>\n",
       "      <th>score</th>\n",
       "    </tr>\n",
       "  </thead>\n",
       "  <tbody>\n",
       "    <tr>\n",
       "      <th>0</th>\n",
       "      <td>1</td>\n",
       "      <td>005b2j4b</td>\n",
       "      <td>2</td>\n",
       "    </tr>\n",
       "    <tr>\n",
       "      <th>1</th>\n",
       "      <td>1</td>\n",
       "      <td>00fmeepz</td>\n",
       "      <td>1</td>\n",
       "    </tr>\n",
       "    <tr>\n",
       "      <th>2</th>\n",
       "      <td>1</td>\n",
       "      <td>g7dhmyyo</td>\n",
       "      <td>2</td>\n",
       "    </tr>\n",
       "    <tr>\n",
       "      <th>3</th>\n",
       "      <td>1</td>\n",
       "      <td>0194oljo</td>\n",
       "      <td>1</td>\n",
       "    </tr>\n",
       "    <tr>\n",
       "      <th>4</th>\n",
       "      <td>1</td>\n",
       "      <td>021q9884</td>\n",
       "      <td>1</td>\n",
       "    </tr>\n",
       "    <tr>\n",
       "      <th>...</th>\n",
       "      <td>...</td>\n",
       "      <td>...</td>\n",
       "      <td>...</td>\n",
       "    </tr>\n",
       "    <tr>\n",
       "      <th>67311</th>\n",
       "      <td>50</td>\n",
       "      <td>f8aolprb</td>\n",
       "      <td>0</td>\n",
       "    </tr>\n",
       "    <tr>\n",
       "      <th>67312</th>\n",
       "      <td>50</td>\n",
       "      <td>we7wv6so</td>\n",
       "      <td>0</td>\n",
       "    </tr>\n",
       "    <tr>\n",
       "      <th>67313</th>\n",
       "      <td>50</td>\n",
       "      <td>t35voozy</td>\n",
       "      <td>0</td>\n",
       "    </tr>\n",
       "    <tr>\n",
       "      <th>67314</th>\n",
       "      <td>50</td>\n",
       "      <td>fb8a6evc</td>\n",
       "      <td>0</td>\n",
       "    </tr>\n",
       "    <tr>\n",
       "      <th>67315</th>\n",
       "      <td>50</td>\n",
       "      <td>nper7qes</td>\n",
       "      <td>2</td>\n",
       "    </tr>\n",
       "  </tbody>\n",
       "</table>\n",
       "<p>67316 rows × 3 columns</p>\n",
       "</div>"
      ],
      "text/plain": [
       "       query-id corpus-id  score\n",
       "0             1  005b2j4b      2\n",
       "1             1  00fmeepz      1\n",
       "2             1  g7dhmyyo      2\n",
       "3             1  0194oljo      1\n",
       "4             1  021q9884      1\n",
       "...         ...       ...    ...\n",
       "67311        50  f8aolprb      0\n",
       "67312        50  we7wv6so      0\n",
       "67313        50  t35voozy      0\n",
       "67314        50  fb8a6evc      0\n",
       "67315        50  nper7qes      2\n",
       "\n",
       "[67316 rows x 3 columns]"
      ]
     },
     "execution_count": 152,
     "metadata": {},
     "output_type": "execute_result"
    }
   ],
   "source": [
    "beir"
   ]
  },
  {
   "cell_type": "code",
   "execution_count": 163,
   "id": "e38db496-db47-4050-a3f8-373f5b1fdbd4",
   "metadata": {},
   "outputs": [
    {
     "data": {
      "text/plain": [
       "5413"
      ]
     },
     "execution_count": 163,
     "metadata": {},
     "output_type": "execute_result"
    }
   ],
   "source": [
    "df1 = v2\n",
    "df2 = beir\n",
    "ds1 = set(tuple(line) for line in df1.values)\n",
    "ds2 = set(tuple(line) for line in df2.values)\n",
    "df = pd.DataFrame(list(ds2.difference(ds1)), columns=df2.columns)"
   ]
  },
  {
   "cell_type": "code",
   "execution_count": null,
   "id": "0e350673-ae73-49f7-871a-4ee68654081f",
   "metadata": {},
   "outputs": [],
   "source": [
    "# For each model, calculate the metric\n",
    "dataset_name = \"trec-covid\"\n",
    "for model_name in [\"bge-large-en-v1.5\" , \"contriever\", \"gte-base\", \"multilingual-e5-large\"]:\n",
    "    with open(f\"{model_name}/{dataset_name}.jsonl\") as f:\n",
    "        results = [json.loads(i) for i in f.readlines()]\n",
    "    retrieval_results = {str(i[\"_id\"]): [ret[\"_id\"] for ret in i[\"retrieval\"]] for i in results}\n",
    "    #cal_ndcg(model_name, retrieval_results, gt)\n",
    "    cal_recall(model_name, retrieval_results, gt)"
   ]
  }
 ],
 "metadata": {
  "kernelspec": {
   "display_name": "Python 3 (ipykernel)",
   "language": "python",
   "name": "python3"
  },
  "language_info": {
   "codemirror_mode": {
    "name": "ipython",
    "version": 3
   },
   "file_extension": ".py",
   "mimetype": "text/x-python",
   "name": "python",
   "nbconvert_exporter": "python",
   "pygments_lexer": "ipython3",
   "version": "3.9.0"
  }
 },
 "nbformat": 4,
 "nbformat_minor": 5
}
