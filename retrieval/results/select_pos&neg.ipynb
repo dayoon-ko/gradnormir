{
 "cells": [
  {
   "cell_type": "code",
   "execution_count": 37,
   "id": "d50d7193-5564-4a4a-a2c9-8fbbc15b9510",
   "metadata": {},
   "outputs": [],
   "source": [
    "model_name = [\"bge-large-en-v1.5\", \"contriever\", \"gte-base\", \"multilingual-e5-large\"][2]\n",
    "dataset_name = [\"nfcorpus\", \"trec-covid\"][1]\n",
    "dropout=[\"\"][0]\n",
    "num_positives = 16\n",
    "num_negatives_per_positive = 4"
   ]
  },
  {
   "cell_type": "code",
   "execution_count": 38,
   "id": "8be25c33-84e4-4ad0-b89a-79b9838320ca",
   "metadata": {},
   "outputs": [
    {
     "data": {
      "text/plain": [
       "('gte-base', 'trec-covid', '')"
      ]
     },
     "execution_count": 38,
     "metadata": {},
     "output_type": "execute_result"
    }
   ],
   "source": [
    "model_name, dataset_name, dropout"
   ]
  },
  {
   "cell_type": "code",
   "execution_count": 39,
   "id": "fcaf1679-9d02-460a-b15a-79cfdcb8b883",
   "metadata": {},
   "outputs": [],
   "source": [
    "# Load entire corpus\n",
    "import json\n",
    "\n",
    "def load_jsonl(path):\n",
    "    with open(path) as f:\n",
    "        return [json.loads(i) for i in f.readlines()]\n",
    "        \n",
    "corpus = load_jsonl(f\"/gallery_louvre/dayoon.ko/research/sds/src/datasets/{dataset_name}/corpus.jsonl\")\n",
    "corpus_dict = {}\n",
    "for item in corpus:\n",
    "    corpus_dict[item[\"_id\"]] = item[\"text\"]"
   ]
  },
  {
   "cell_type": "code",
   "execution_count": 40,
   "id": "6ed7390a-c249-4131-827a-32c174217c92",
   "metadata": {
    "scrolled": true
   },
   "outputs": [
    {
     "data": {
      "text/html": [
       "<div>\n",
       "<style scoped>\n",
       "    .dataframe tbody tr th:only-of-type {\n",
       "        vertical-align: middle;\n",
       "    }\n",
       "\n",
       "    .dataframe tbody tr th {\n",
       "        vertical-align: top;\n",
       "    }\n",
       "\n",
       "    .dataframe thead th {\n",
       "        text-align: right;\n",
       "    }\n",
       "</style>\n",
       "<table border=\"1\" class=\"dataframe\">\n",
       "  <thead>\n",
       "    <tr style=\"text-align: right;\">\n",
       "      <th></th>\n",
       "      <th>n-query</th>\n",
       "      <th>recall</th>\n",
       "    </tr>\n",
       "    <tr>\n",
       "      <th>corpus-id</th>\n",
       "      <th></th>\n",
       "      <th></th>\n",
       "    </tr>\n",
       "  </thead>\n",
       "  <tbody>\n",
       "    <tr>\n",
       "      <th>00fmeepz</th>\n",
       "      <td>3</td>\n",
       "      <td>0.000000</td>\n",
       "    </tr>\n",
       "    <tr>\n",
       "      <th>00rq0ggi</th>\n",
       "      <td>3</td>\n",
       "      <td>0.000000</td>\n",
       "    </tr>\n",
       "    <tr>\n",
       "      <th>01es0zv4</th>\n",
       "      <td>3</td>\n",
       "      <td>0.000000</td>\n",
       "    </tr>\n",
       "    <tr>\n",
       "      <th>023h20vk</th>\n",
       "      <td>3</td>\n",
       "      <td>0.000000</td>\n",
       "    </tr>\n",
       "    <tr>\n",
       "      <th>02bk8vtk</th>\n",
       "      <td>3</td>\n",
       "      <td>0.000000</td>\n",
       "    </tr>\n",
       "    <tr>\n",
       "      <th>...</th>\n",
       "      <td>...</td>\n",
       "      <td>...</td>\n",
       "    </tr>\n",
       "    <tr>\n",
       "      <th>zvngy7zz</th>\n",
       "      <td>3</td>\n",
       "      <td>0.333333</td>\n",
       "    </tr>\n",
       "    <tr>\n",
       "      <th>zvvdqk4b</th>\n",
       "      <td>5</td>\n",
       "      <td>0.000000</td>\n",
       "    </tr>\n",
       "    <tr>\n",
       "      <th>zxudiyj4</th>\n",
       "      <td>5</td>\n",
       "      <td>0.200000</td>\n",
       "    </tr>\n",
       "    <tr>\n",
       "      <th>zy9lb7d9</th>\n",
       "      <td>4</td>\n",
       "      <td>0.250000</td>\n",
       "    </tr>\n",
       "    <tr>\n",
       "      <th>zz4cczuj</th>\n",
       "      <td>3</td>\n",
       "      <td>0.000000</td>\n",
       "    </tr>\n",
       "  </tbody>\n",
       "</table>\n",
       "<p>1422 rows × 2 columns</p>\n",
       "</div>"
      ],
      "text/plain": [
       "           n-query    recall\n",
       "corpus-id                   \n",
       "00fmeepz         3  0.000000\n",
       "00rq0ggi         3  0.000000\n",
       "01es0zv4         3  0.000000\n",
       "023h20vk         3  0.000000\n",
       "02bk8vtk         3  0.000000\n",
       "...            ...       ...\n",
       "zvngy7zz         3  0.333333\n",
       "zvvdqk4b         5  0.000000\n",
       "zxudiyj4         5  0.200000\n",
       "zy9lb7d9         4  0.250000\n",
       "zz4cczuj         3  0.000000\n",
       "\n",
       "[1422 rows x 2 columns]"
      ]
     },
     "execution_count": 40,
     "metadata": {},
     "output_type": "execute_result"
    }
   ],
   "source": [
    "# Load succ and fail csv files\n",
    "import pandas as pd\n",
    "path = f\"{model_name}/{dataset_name}-n-query-mt-2.csv\"\n",
    "df = pd.read_csv(path)\n",
    "df = df.drop('Unnamed: 0', axis=1)\n",
    "df = df.set_index(\"corpus-id\")\n",
    "df\n",
    "# Get succ and fail corpus-id\n",
    "#meta = df.to_dict()\n",
    "#print(meta)"
   ]
  },
  {
   "cell_type": "code",
   "execution_count": 41,
   "id": "7bfe350f-13e5-43f5-b507-49d1b421036d",
   "metadata": {},
   "outputs": [],
   "source": [
    "def filter_data(res):\n",
    "    for i in res:\n",
    "        i[\"retrieval\"] = [j for j in i[\"retrieval\"] if i[\"_id\"] != j]\n",
    "    return res"
   ]
  },
  {
   "cell_type": "code",
   "execution_count": 42,
   "id": "617da01d-0e95-4265-a9c6-535724da2808",
   "metadata": {},
   "outputs": [],
   "source": [
    "def get_ret_map(pth):\n",
    "    pth1 = path.replace(\".csv\", f\"-d2d-retrieval{dropout}.jsonl\")\n",
    "    res1 = load_jsonl(pth1)\n",
    "    res1 = filter_data(res1)\n",
    "    res1 = {i[\"_id\"]: i[\"retrieval\"] for i in res1}\n",
    "    pth2 = path.replace(\".csv\", f\"-d2d2d-retrieval{dropout}.jsonl\")\n",
    "    res2 = load_jsonl(pth2)\n",
    "    res2 = filter_data(res2)\n",
    "    res2 = {i[\"_id\"]: i[\"retrieval\"][1:] for i in res2}\n",
    "    results = {}\n",
    "    for qid, ret_ids in res1.items():\n",
    "        selected_rets = {}\n",
    "        for ret_id in ret_ids[:num_positives]:\n",
    "            ret2_ids = res2[ret_id]\n",
    "            ret2_ids_selected = [i for i in ret2_ids if i not in ret_ids and i != qid]\n",
    "            ret2_ids_selected = ret2_ids_selected[:num_negatives_per_positive]\n",
    "            if len(ret2_ids_selected) < num_negatives_per_positive:\n",
    "                continue\n",
    "            selected_rets[ret_id] = ret2_ids_selected\n",
    "            if len(selected_rets) == num_positives:\n",
    "                break\n",
    "        results[qid] = selected_rets\n",
    "    return results\n",
    "        \n",
    "ret_map = get_ret_map(path)"
   ]
  },
  {
   "cell_type": "code",
   "execution_count": 43,
   "id": "da59570f-c46d-48ac-8f91-0967485ad9bc",
   "metadata": {},
   "outputs": [],
   "source": [
    "def get_dataset(ret_map):\n",
    "    dataset = []\n",
    "    for query_id, rets1 in ret_map.items():\n",
    "        for pos_id, neg_ids in rets1.items():\n",
    "            query_meta = df.loc[query_id]\n",
    "            query = corpus_dict[query_id]\n",
    "            positive = [corpus_dict[pos_id]]\n",
    "            negatives = [corpus_dict[idx] for idx in neg_ids]\n",
    "            dataset.append({\n",
    "                \"_id\": query_id,\n",
    "                \"recall\": query_meta[\"recall\"],\n",
    "                #\"precision\": query_meta[\"precision\"],\n",
    "                #\"f1\": query_meta[\"f1\"],\n",
    "                \"query\": query,\n",
    "                \"pos\": positive,\n",
    "                \"neg\": negatives,\n",
    "            })\n",
    "    return dataset \n",
    "\n",
    "dataset = get_dataset(ret_map)\n",
    "            "
   ]
  },
  {
   "cell_type": "code",
   "execution_count": 44,
   "id": "a92d244c-40af-478a-afaa-dd6fedd8293a",
   "metadata": {
    "scrolled": true
   },
   "outputs": [
    {
     "name": "stdout",
     "output_type": "stream",
     "text": [
      "/gallery_louvre/dayoon.ko/research/sds/eval_retrieval/gradnorm/gte-base/trec-covid.json\n"
     ]
    }
   ],
   "source": [
    "print(f\"/gallery_louvre/dayoon.ko/research/sds/eval_retrieval/gradnorm/{model_name}/{dataset_name}{dropout}.json\")\n",
    "with open(f\"/gallery_louvre/dayoon.ko/research/sds/eval_retrieval/gradnorm/{model_name}/{dataset_name}{dropout}.json\", \"w\") as f:\n",
    "    json.dump(dataset, f, indent=2)\n",
    "    "
   ]
  },
  {
   "cell_type": "markdown",
   "id": "cc7c0473-1ee3-4383-a065-840b35444e9d",
   "metadata": {},
   "source": [
    "#### Deprecated"
   ]
  },
  {
   "cell_type": "code",
   "execution_count": 17,
   "id": "0a8fdd0b-0421-422e-b9b5-8dfb1dfdfbb1",
   "metadata": {},
   "outputs": [],
   "source": [
    "import random\n",
    "\n",
    "negs = [i[\"text\"] for i in random.sample(corpus, 20) if len(i[\"text\"]) > 0][:5]\n",
    "\n",
    "def generate_rand_neg_dataset(docs, positives, negatives):\n",
    "    dataset = []\n",
    "    for i in range(len(docs)):\n",
    "        query = docs[i]\n",
    "        positives_selected = []\n",
    "        negatives_selected = []\n",
    "        for j, doc in enumerate(positives[i]):\n",
    "            if len(negatives[i][j]) == num_negatives_per_positive:\n",
    "                positives_selected.append(doc)\n",
    "                negatives_selected.append(negs)\n",
    "            if len(positives_selected) == 4:\n",
    "                break\n",
    "        for p, ns in zip(positives_selected, negatives_selected):\n",
    "            dataset.append({\n",
    "                \"query\": query,\n",
    "                \"pos\": [p],\n",
    "                \"neg\": ns\n",
    "            })\n",
    "    return dataset"
   ]
  },
  {
   "cell_type": "code",
   "execution_count": 60,
   "id": "23850017-511e-4bb3-9ea6-ded6c2a29a26",
   "metadata": {
    "scrolled": true
   },
   "outputs": [
    {
     "ename": "NameError",
     "evalue": "name 'succ_docs' is not defined",
     "output_type": "error",
     "traceback": [
      "\u001b[0;31m---------------------------------------------------------------------------\u001b[0m",
      "\u001b[0;31mNameError\u001b[0m                                 Traceback (most recent call last)",
      "Cell \u001b[0;32mIn[60], line 1\u001b[0m\n\u001b[0;32m----> 1\u001b[0m succ_dataset \u001b[38;5;241m=\u001b[39m generate_rand_neg_dataset(\u001b[43msucc_docs\u001b[49m, succ_positives, succ_negatives)\n\u001b[1;32m      2\u001b[0m \u001b[38;5;28mprint\u001b[39m(succ_dataset[\u001b[38;5;241m0\u001b[39m])\n\u001b[1;32m      3\u001b[0m \u001b[38;5;28;01mwith\u001b[39;00m \u001b[38;5;28mopen\u001b[39m(\u001b[38;5;124m\"\u001b[39m\u001b[38;5;124mid_randneg_dataset/trec-covid-succ.json\u001b[39m\u001b[38;5;124m\"\u001b[39m, \u001b[38;5;124m\"\u001b[39m\u001b[38;5;124mw\u001b[39m\u001b[38;5;124m\"\u001b[39m) \u001b[38;5;28;01mas\u001b[39;00m f:\n",
      "\u001b[0;31mNameError\u001b[0m: name 'succ_docs' is not defined"
     ]
    }
   ],
   "source": [
    "succ_dataset = generate_rand_neg_dataset(succ_docs, succ_positives, succ_negatives)\n",
    "print(succ_dataset[0])\n",
    "with open(\"id_randneg_dataset/trec-covid-succ.json\", \"w\") as f:\n",
    "    json.dump(succ_dataset, f, indent=2)\n",
    "\n",
    "\n",
    "fail_dataset = generate_rand_neg_dataset(fail_docs, fail_positives, fail_negatives)\n",
    "print(fail_dataset[0])\n",
    "with open(\"ood_randneg_dataset/trec-covid-fail.json\", \"w\") as f:\n",
    "    json.dump(fail_dataset, f, indent=2)"
   ]
  },
  {
   "cell_type": "code",
   "execution_count": null,
   "id": "119b40bc-a13c-4d8d-a815-c6c0ffd84f46",
   "metadata": {},
   "outputs": [],
   "source": [
    "succ_negatives = get_negatives(succ_path)\n",
    "succ_negatives_selected = [succ_negatives[i] for i in succ_ids_selected]"
   ]
  },
  {
   "cell_type": "code",
   "execution_count": null,
   "id": "e4199464-75a2-4ac4-8a47-077ed3b266ce",
   "metadata": {},
   "outputs": [],
   "source": [
    "def generate_dataset(docs, positives, negatives):\n",
    "    dataset = []\n",
    "    for i in range(len(docs)):\n",
    "        query = docs[i]\n",
    "        positives_selected = []\n",
    "        negatives_selected = []\n",
    "        for j, doc in enumerate(positives[i]):\n",
    "            if len(negatives[i][j]) == num_negatives_per_positive:\n",
    "                positives_selected.append(doc)\n",
    "                negatives_selected.append(negatives[i][j])\n",
    "            if len(positives_selected) == 4:\n",
    "                break\n",
    "        for p, ns in zip(positives_selected, negatives_selected):\n",
    "            dataset.append({\n",
    "                \"query\": query,\n",
    "                \"pos\": [p],\n",
    "                \"neg\": ns\n",
    "            })\n",
    "    return dataset\n"
   ]
  },
  {
   "cell_type": "code",
   "execution_count": null,
   "id": "18c2100d-ba75-40e9-8ceb-46194d5a264d",
   "metadata": {
    "scrolled": true
   },
   "outputs": [],
   "source": [
    "succ_dataset_selected = generate_dataset(succ_docs_selected, succ_positives_selected, succ_negatives_selected)\n",
    "print(succ_dataset_selected[0])\n",
    "with open(\"trec-covid/ood_well_over_0.4.json\", \"w\") as f:\n",
    "    json.dump(succ_dataset_selected, f, indent=2)"
   ]
  },
  {
   "cell_type": "markdown",
   "id": "b7b592b2-3d52-4e0c-b6c5-10d35d04e0ad",
   "metadata": {},
   "source": [
    "## OOD all consecutive"
   ]
  },
  {
   "cell_type": "code",
   "execution_count": null,
   "id": "8eb9c65d-1f60-4e40-85a2-cc573df7ef32",
   "metadata": {},
   "outputs": [],
   "source": [
    "pth = \"/gallery_louvre/dayoon.ko/research/sds/FlagEmbedding/FlagEmbedding/BGE_M3/\"\n",
    "\n",
    "def load_file(pth):\n",
    "    with open(pth) as f:\n",
    "        lines = f.readlines() \n",
    "    return lines \n",
    "    \n",
    "def get_recall_and_score_list(pth):\n",
    "    lines = load_file(pth)\n",
    "    gradnorms = []\n",
    "    for l in lines:\n",
    "        try: \n",
    "            sid = l.index(\"tensor(\") + len(\"tensor(\") \n",
    "            eid = sid + 5\n",
    "            gradnorms.append(float(l[sid:eid]))\n",
    "        except:\n",
    "            continue\n",
    "    recalls = []\n",
    "    for l in lines:\n",
    "        try: \n",
    "            sid = l.index(\"recall: \") + len(\"recall: \") \n",
    "            eid = sid + 5\n",
    "            recalls.append(int(float(l[sid:eid].strip()) * 100))\n",
    "        except:\n",
    "            continue\n",
    "    ids = []\n",
    "    for l in lines:\n",
    "        try:\n",
    "            sid = l.index(\"doc_id: \") + len(\"doc_id: \") \n",
    "            eid = sid\n",
    "            ids.append(l[sid:].strip())\n",
    "        except:\n",
    "            continue\n",
    "\n",
    "    gradnorms_selected = []\n",
    "    recalls_selected = []\n",
    "    ids_selected = []\n",
    "    func = min #lambda x: sum(x) / len(x)\n",
    "    for i in range(0, len(ids), 4):\n",
    "        gradnorms_selected.append(func(gradnorms[i:i+4]))\n",
    "        recalls_selected.append(func(recalls[i:i+4]))\n",
    "        ids_selected.append(ids[i])\n",
    "            \n",
    "    return recalls_selected, gradnorms_selected, ids_selected\n",
    "\n",
    "\n",
    "\n",
    "ood_all = pth + \"ood_all\"\n",
    "recalls, gradnorms, ids = get_recall_and_score_list(ood_all)\n",
    "print(len(recalls), len(gradnorms), len(ids))\n",
    "\n",
    "import matplotlib.pyplot as plt \n",
    "plt.figure()\n",
    "plt.scatter(recalls, gradnorms, color=\"green\")\n",
    "plt.xlabel(\"recall\")\n",
    "plt.ylabel(\"gradient norm\")\n",
    "#plt.plot(ood_well_o, len(ood_well_o) * [0], \"o\" , label = \"ood-well(tp_over_t>0.4)\", color=\"blue\")\n",
    "#plt.plot(ood_poor, len(ood_poor) * [1], \"x\" , label = \"ood-poor\", color=\"red\")\n",
    "\n",
    "means = {k: [] for k in set(recalls)}\n",
    "for r, g in zip(recalls, gradnorms):\n",
    "    means[r].append(g)\n",
    "means = {k: sum(v) / len(v) for k, v in means.items()}\n",
    "means = sorted(list(means.items()), key= lambda x: int(x[0]))\n",
    "xs = [i[0] for i in means]\n",
    "ys = [i[1] for i in means]\n",
    "plt.scatter(xs, ys, marker=\"x\", color=\"red\")\n",
    "plt.legend()\n",
    " "
   ]
  },
  {
   "cell_type": "code",
   "execution_count": null,
   "id": "8e682e93-a014-4b8a-b2a4-b8e6df3dd99c",
   "metadata": {},
   "outputs": [],
   "source": []
  },
  {
   "cell_type": "code",
   "execution_count": null,
   "id": "aa052437-ed1b-4e8c-a0b5-121f83c8e24e",
   "metadata": {},
   "outputs": [],
   "source": [
    "data = {\n",
    "    \"_id\": ids,\n",
    "    \"recall\": recalls,\n",
    "    \"grad_norms\": gradnorms,\n",
    "    \"scores\": scores\n",
    "}\n",
    "import pandas as pd\n",
    "df = pd.DataFrame(data)\n",
    "df = df.sort_values(\"recall\")"
   ]
  },
  {
   "cell_type": "code",
   "execution_count": null,
   "id": "ea598fa8-18c1-4f14-b977-c37f0a6fd7d2",
   "metadata": {},
   "outputs": [],
   "source": [
    "df.head(20)"
   ]
  },
  {
   "cell_type": "code",
   "execution_count": null,
   "id": "95d5115c-2e8f-47b4-9452-0f1ce3393977",
   "metadata": {},
   "outputs": [],
   "source": [
    "df.tail(20)"
   ]
  },
  {
   "cell_type": "code",
   "execution_count": null,
   "id": "152585a2-7a17-4bb7-bf97-827fb386bab9",
   "metadata": {},
   "outputs": [],
   "source": []
  },
  {
   "cell_type": "code",
   "execution_count": null,
   "id": "59b0640e-ac83-4864-8720-654dfdbf26e9",
   "metadata": {},
   "outputs": [],
   "source": []
  },
  {
   "cell_type": "code",
   "execution_count": null,
   "id": "133e1be7-b518-4471-9114-f0aafb561f28",
   "metadata": {},
   "outputs": [],
   "source": []
  }
 ],
 "metadata": {
  "kernelspec": {
   "display_name": "Python 3 (ipykernel)",
   "language": "python",
   "name": "python3"
  },
  "language_info": {
   "codemirror_mode": {
    "name": "ipython",
    "version": 3
   },
   "file_extension": ".py",
   "mimetype": "text/x-python",
   "name": "python",
   "nbconvert_exporter": "python",
   "pygments_lexer": "ipython3",
   "version": "3.9.0"
  }
 },
 "nbformat": 4,
 "nbformat_minor": 5
}
