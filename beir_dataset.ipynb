{
 "cells": [
  {
   "cell_type": "code",
   "execution_count": 55,
   "id": "25439b5c-56d8-4e6b-a0e9-04763c90b57c",
   "metadata": {},
   "outputs": [
    {
     "name": "stdout",
     "output_type": "stream",
     "text": [
      "arguana\n",
      "climate-fever\n",
      "dbpedia-entity\n",
      "fever\n",
      "fiqa\n",
      "germanquad\n",
      "hotpotqa\n",
      "msmarco\n",
      "nfcorpus\n",
      "nq\n",
      "quora\n",
      "scidocs\n",
      "scifact\n",
      "trec-covid\n",
      "webis-touche2020\n"
     ]
    }
   ],
   "source": [
    "datasets = sorted([\"arguana\", \"dbpedia-entity\", \"germanquad\", \"msmarco\", \"quora\", \n",
    "            \"trec-covid\", \"climate-fever\", \"fever\", \"hotpotqa\", \"nfcorpus\", \"scidocs\",  \n",
    "            #\"cqadupstack\", \n",
    "            \"fiqa\", \"nq\", \"scifact\", \"webis-touche2020\"])\n",
    "\n",
    "for i in datasets:\n",
    "    print(i)"
   ]
  },
  {
   "cell_type": "code",
   "execution_count": 2,
   "id": "64c6273b-2190-47fb-b5db-92a7c734ec19",
   "metadata": {},
   "outputs": [
    {
     "name": "stdout",
     "output_type": "stream",
     "text": [
      "arguana: 1.0 Q/D\n",
      "climate-fever: 3.48 Q/D\n",
      "dbpedia-entity: 1.03 Q/D\n",
      "fever: 5.29 Q/D\n",
      "fiqa: 1.0 Q/D\n",
      "germanquad: 4.42 Q/D\n",
      "hotpotqa: 1.07 Q/D\n",
      "msmarco: 1.0 Q/D\n",
      "nfcorpus: 3.94 Q/D\n",
      "nq: 1.0 Q/D\n",
      "quora: 1.0 Q/D\n",
      "scidocs: 1.23 Q/D\n",
      "scifact: 1.2 Q/D\n",
      "trec-covid: 1.41 Q/D\n",
      "webis-touche2020: 1.01 Q/D\n"
     ]
    }
   ],
   "source": [
    "root = \"/gallery_louvre/dayoon.ko/research/sds/src/datasets/\"\n",
    "import pandas as pd\n",
    "for dataset in datasets:\n",
    "    df = pd.read_csv(root + dataset + \"/qrels/test.tsv\", sep=\"\\t\")\n",
    "    if \"score\" in df.columns:\n",
    "        score_key = \"score\"\n",
    "        corpus_key = \"corpus-id\"\n",
    "    elif \"rel\" in df.columns:\n",
    "        score_key = \"rel\"\n",
    "        corpus_key = \"c_id\"\n",
    "    else:\n",
    "        print(df.columns)\n",
    "    df = df[df[score_key] >= 1]\n",
    "    counts = df[corpus_key].value_counts().values.mean()\n",
    "    print(f\"{dataset}: {round(counts, 2)} Q/D\")"
   ]
  },
  {
   "cell_type": "code",
   "execution_count": 9,
   "id": "b65af631-0270-4f51-8d46-374818521772",
   "metadata": {},
   "outputs": [
    {
     "name": "stdout",
     "output_type": "stream",
     "text": [
      "climate-fever: 275 documents with more than 2 related queries\n",
      "dbpedia-entity: 60 documents with more than 2 related queries\n",
      "fever: 715 documents with more than 2 related queries\n",
      "germanquad: 314 documents with more than 2 related queries\n",
      "hotpotqa: 84 documents with more than 2 related queries\n",
      "nfcorpus: 1938 documents with more than 2 related queries\n",
      "scidocs: 159 documents with more than 2 related queries\n",
      "scifact: 10 documents with more than 2 related queries\n",
      "trec-covid: 1422 documents with more than 2 related queries\n"
     ]
    }
   ],
   "source": [
    "root = \"/gallery_louvre/dayoon.ko/research/sds/src/datasets/\"\n",
    "import pandas as pd\n",
    "for dataset in datasets:\n",
    "    df = pd.read_csv(root + dataset + \"/qrels/test.tsv\", sep=\"\\t\")\n",
    "    if \"score\" in df.columns:\n",
    "        score_key = \"score\"\n",
    "        corpus_key = \"corpus-id\"\n",
    "    elif \"rel\" in df.columns:\n",
    "        score_key = \"rel\"\n",
    "        corpus_key = \"c_id\"\n",
    "    df = df[df[score_key] >= 1]\n",
    "    counts = [i for i in df[corpus_key].value_counts().values if i >=3]\n",
    "    if len(counts) > 0:\n",
    "        print(f\"{dataset}: {len(counts)} documents with more than 2 related queries\")"
   ]
  },
  {
   "cell_type": "markdown",
   "id": "935a0dd5-b48b-4353-90be-3ef2ca126645",
   "metadata": {},
   "source": [
    "## Check the # of true corpus "
   ]
  },
  {
   "cell_type": "code",
   "execution_count": 72,
   "id": "8fff5272-725e-4dbc-8ec8-6d00cb97cae3",
   "metadata": {},
   "outputs": [
    {
     "name": "stdout",
     "output_type": "stream",
     "text": [
      "\n",
      "Dataset trec-covid-v2\n",
      "../sds/src/datasets/trec-covid-v2/qrels/test.tsv\n",
      "selected; 21538\n",
      "concat: 14978\n"
     ]
    },
    {
     "name": "stderr",
     "output_type": "stream",
     "text": [
      "100%|███████████████████████████████████████████████████████████████████████████████████████████████████████████████████████| 129179/129179 [00:00<00:00, 137177.53it/s]\n"
     ]
    },
    {
     "name": "stdout",
     "output_type": "stream",
     "text": [
      "selected_corpus: 14978\n",
      "\n",
      "Dataset nfcorpus\n",
      "../sds/src/datasets/nfcorpus/qrels/test.tsv\n",
      "selected; 12334\n",
      "../sds/src/datasets/nfcorpus/qrels/dev.tsv\n",
      "selected; 11385\n",
      "../sds/src/datasets/nfcorpus/qrels/train.tsv\n",
      "selected; 110575\n",
      "concat: 3633\n"
     ]
    },
    {
     "name": "stderr",
     "output_type": "stream",
     "text": [
      "100%|███████████████████████████████████████████████████████████████████████████████████████████████████████████████████████████| 3633/3633 [00:00<00:00, 125628.90it/s]\n"
     ]
    },
    {
     "name": "stdout",
     "output_type": "stream",
     "text": [
      "selected_corpus: 3633\n",
      "\n",
      "Dataset quora\n",
      "../sds/src/datasets/quora/qrels/test.tsv\n",
      "selected; 15675\n",
      "../sds/src/datasets/quora/qrels/dev.tsv\n",
      "selected; 7626\n",
      "concat: 23301\n"
     ]
    },
    {
     "name": "stderr",
     "output_type": "stream",
     "text": [
      "100%|███████████████████████████████████████████████████████████████████████████████████████████████████████████████████████| 522931/522931 [00:01<00:00, 356467.42it/s]\n"
     ]
    },
    {
     "name": "stdout",
     "output_type": "stream",
     "text": [
      "selected_corpus: 23301\n",
      "\n",
      "Dataset fever\n",
      "../sds/src/datasets/fever/qrels/test.tsv\n",
      "selected; 7937\n",
      "../sds/src/datasets/fever/qrels/dev.tsv\n",
      "selected; 8079\n",
      "../sds/src/datasets/fever/qrels/train.tsv\n",
      "selected; 140085\n",
      "concat: 14533\n"
     ]
    },
    {
     "name": "stderr",
     "output_type": "stream",
     "text": [
      "100%|█████████████████████████████████████████████████████████████████████████████████████████████████████████████████████| 5416568/5416568 [00:23<00:00, 228364.37it/s]\n"
     ]
    },
    {
     "name": "stdout",
     "output_type": "stream",
     "text": [
      "selected_corpus: 14533\n",
      "\n",
      "Dataset scidocs\n",
      "../sds/src/datasets/scidocs/qrels/test.tsv\n",
      "selected; 4928\n",
      "concat: 4020\n"
     ]
    },
    {
     "name": "stderr",
     "output_type": "stream",
     "text": [
      "100%|██████████████████████████████████████████████████████████████████████████████████████████████████████████████████████████| 25657/25657 [00:00<00:00, 31558.26it/s]\n"
     ]
    },
    {
     "name": "stdout",
     "output_type": "stream",
     "text": [
      "selected_corpus: 4020\n",
      "\n",
      "Dataset arguana\n",
      "../sds/src/datasets/arguana/qrels/test.tsv\n",
      "selected; 1406\n",
      "concat: 1406\n"
     ]
    },
    {
     "name": "stderr",
     "output_type": "stream",
     "text": [
      "100%|███████████████████████████████████████████████████████████████████████████████████████████████████████████████████████████| 8674/8674 [00:00<00:00, 160463.43it/s]"
     ]
    },
    {
     "name": "stdout",
     "output_type": "stream",
     "text": [
      "selected_corpus: 1401\n",
      "\n",
      "Dataset dbpedia-entity\n",
      "../sds/src/datasets/dbpedia-entity/qrels/test.tsv\n",
      "selected; 15286\n",
      "../sds/src/datasets/dbpedia-entity/qrels/dev.tsv\n",
      "selected; 1405\n",
      "concat: 16182\n"
     ]
    },
    {
     "name": "stderr",
     "output_type": "stream",
     "text": [
      "\n",
      "100%|█████████████████████████████████████████████████████████████████████████████████████████████████████████████████████| 4635922/4635922 [00:19<00:00, 235108.04it/s]\n"
     ]
    },
    {
     "name": "stdout",
     "output_type": "stream",
     "text": [
      "selected_corpus: 16182\n",
      "\n",
      "Dataset webis-touche2020\n",
      "../sds/src/datasets/webis-touche2020/qrels/test.tsv\n",
      "selected; 932\n",
      "concat: 920\n"
     ]
    },
    {
     "name": "stderr",
     "output_type": "stream",
     "text": [
      "100%|███████████████████████████████████████████████████████████████████████████████████████████████████████████████████████| 382545/382545 [00:03<00:00, 120591.64it/s]\n"
     ]
    },
    {
     "name": "stdout",
     "output_type": "stream",
     "text": [
      "selected_corpus: 920\n",
      "\n",
      "Dataset scifact\n",
      "../sds/src/datasets/scifact/qrels/test.tsv\n",
      "selected; 339\n",
      "../sds/src/datasets/scifact/qrels/train.tsv\n",
      "selected; 919\n",
      "concat: 667\n"
     ]
    },
    {
     "name": "stderr",
     "output_type": "stream",
     "text": [
      "100%|███████████████████████████████████████████████████████████████████████████████████████████████████████████████████████████| 5183/5183 [00:00<00:00, 148315.70it/s]\n"
     ]
    },
    {
     "name": "stdout",
     "output_type": "stream",
     "text": [
      "selected_corpus: 667\n",
      "\n",
      "Dataset fiqa\n",
      "../sds/src/datasets/fiqa/qrels/test.tsv\n",
      "selected; 1706\n",
      "../sds/src/datasets/fiqa/qrels/dev.tsv\n",
      "selected; 1238\n",
      "../sds/src/datasets/fiqa/qrels/train.tsv\n",
      "selected; 14166\n",
      "concat: 17110\n"
     ]
    },
    {
     "name": "stderr",
     "output_type": "stream",
     "text": [
      "100%|█████████████████████████████████████████████████████████████████████████████████████████████████████████████████████████| 57638/57638 [00:00<00:00, 205676.81it/s]\n"
     ]
    },
    {
     "name": "stdout",
     "output_type": "stream",
     "text": [
      "selected_corpus: 17110\n",
      "\n",
      "Dataset stats\n",
      "../sds/src/datasets/cqadupstack/stats/qrels/test.tsv\n",
      "selected; 913\n",
      "concat: 913\n"
     ]
    },
    {
     "name": "stderr",
     "output_type": "stream",
     "text": [
      "100%|█████████████████████████████████████████████████████████████████████████████████████████████████████████████████████████| 42269/42269 [00:00<00:00, 158518.11it/s]\n"
     ]
    },
    {
     "name": "stdout",
     "output_type": "stream",
     "text": [
      "selected_corpus: 913\n",
      "\n",
      "Dataset programmers\n",
      "../sds/src/datasets/cqadupstack/programmers/qrels/test.tsv\n",
      "selected; 1675\n",
      "concat: 1675\n"
     ]
    },
    {
     "name": "stderr",
     "output_type": "stream",
     "text": [
      "100%|█████████████████████████████████████████████████████████████████████████████████████████████████████████████████████████| 32176/32176 [00:00<00:00, 164473.69it/s]\n"
     ]
    },
    {
     "name": "stdout",
     "output_type": "stream",
     "text": [
      "selected_corpus: 1675\n",
      "\n",
      "Dataset gaming\n",
      "../sds/src/datasets/cqadupstack/gaming/qrels/test.tsv\n",
      "selected; 2263\n",
      "concat: 2263\n"
     ]
    },
    {
     "name": "stderr",
     "output_type": "stream",
     "text": [
      "100%|█████████████████████████████████████████████████████████████████████████████████████████████████████████████████████████| 45301/45301 [00:00<00:00, 230544.96it/s]\n"
     ]
    },
    {
     "name": "stdout",
     "output_type": "stream",
     "text": [
      "selected_corpus: 2263\n",
      "\n",
      "Dataset unix\n",
      "../sds/src/datasets/cqadupstack/unix/qrels/test.tsv\n",
      "selected; 1693\n",
      "concat: 1693\n"
     ]
    },
    {
     "name": "stderr",
     "output_type": "stream",
     "text": [
      "100%|█████████████████████████████████████████████████████████████████████████████████████████████████████████████████████████| 47382/47382 [00:00<00:00, 168293.57it/s]\n"
     ]
    },
    {
     "name": "stdout",
     "output_type": "stream",
     "text": [
      "selected_corpus: 1693\n",
      "\n",
      "Dataset wordpress\n",
      "../sds/src/datasets/cqadupstack/wordpress/qrels/test.tsv\n",
      "selected; 744\n",
      "concat: 744\n"
     ]
    },
    {
     "name": "stderr",
     "output_type": "stream",
     "text": [
      "100%|█████████████████████████████████████████████████████████████████████████████████████████████████████████████████████████| 48605/48605 [00:00<00:00, 155811.19it/s]\n"
     ]
    },
    {
     "name": "stdout",
     "output_type": "stream",
     "text": [
      "selected_corpus: 744\n",
      "\n",
      "Dataset android\n",
      "../sds/src/datasets/cqadupstack/android/qrels/test.tsv\n",
      "selected; 1696\n",
      "concat: 1696\n"
     ]
    },
    {
     "name": "stderr",
     "output_type": "stream",
     "text": [
      "100%|█████████████████████████████████████████████████████████████████████████████████████████████████████████████████████████| 22998/22998 [00:00<00:00, 204853.08it/s]\n"
     ]
    },
    {
     "name": "stdout",
     "output_type": "stream",
     "text": [
      "selected_corpus: 1696\n",
      "\n",
      "Dataset physics\n",
      "../sds/src/datasets/cqadupstack/physics/qrels/test.tsv\n",
      "selected; 1933\n",
      "concat: 1933\n"
     ]
    },
    {
     "name": "stderr",
     "output_type": "stream",
     "text": [
      "100%|█████████████████████████████████████████████████████████████████████████████████████████████████████████████████████████| 38316/38316 [00:00<00:00, 170710.54it/s]\n"
     ]
    },
    {
     "name": "stdout",
     "output_type": "stream",
     "text": [
      "selected_corpus: 1933\n",
      "\n",
      "Dataset webmasters\n",
      "../sds/src/datasets/cqadupstack/webmasters/qrels/test.tsv\n",
      "selected; 1395\n",
      "concat: 1395\n"
     ]
    },
    {
     "name": "stderr",
     "output_type": "stream",
     "text": [
      "100%|█████████████████████████████████████████████████████████████████████████████████████████████████████████████████████████| 17405/17405 [00:00<00:00, 190736.36it/s]\n"
     ]
    },
    {
     "name": "stdout",
     "output_type": "stream",
     "text": [
      "selected_corpus: 1395\n",
      "\n",
      "Dataset tex\n",
      "../sds/src/datasets/cqadupstack/tex/qrels/test.tsv\n",
      "selected; 5154\n",
      "concat: 5154\n"
     ]
    },
    {
     "name": "stderr",
     "output_type": "stream",
     "text": [
      "100%|█████████████████████████████████████████████████████████████████████████████████████████████████████████████████████████| 68184/68184 [00:00<00:00, 126871.48it/s]\n"
     ]
    },
    {
     "name": "stdout",
     "output_type": "stream",
     "text": [
      "selected_corpus: 5154\n",
      "\n",
      "Dataset mathematica\n",
      "../sds/src/datasets/cqadupstack/mathematica/qrels/test.tsv\n",
      "selected; 1358\n",
      "concat: 1358\n"
     ]
    },
    {
     "name": "stderr",
     "output_type": "stream",
     "text": [
      "100%|█████████████████████████████████████████████████████████████████████████████████████████████████████████████████████████| 16705/16705 [00:00<00:00, 147941.84it/s]\n"
     ]
    },
    {
     "name": "stdout",
     "output_type": "stream",
     "text": [
      "selected_corpus: 1358\n",
      "\n",
      "Dataset english\n",
      "../sds/src/datasets/cqadupstack/english/qrels/test.tsv\n",
      "selected; 3765\n",
      "concat: 3765\n"
     ]
    },
    {
     "name": "stderr",
     "output_type": "stream",
     "text": [
      "100%|█████████████████████████████████████████████████████████████████████████████████████████████████████████████████████████| 40221/40221 [00:00<00:00, 201377.18it/s]\n"
     ]
    },
    {
     "name": "stdout",
     "output_type": "stream",
     "text": [
      "selected_corpus: 3765\n",
      "\n",
      "Dataset gis\n",
      "../sds/src/datasets/cqadupstack/gis/qrels/test.tsv\n",
      "selected; 1114\n",
      "concat: 1114\n"
     ]
    },
    {
     "name": "stderr",
     "output_type": "stream",
     "text": [
      "100%|█████████████████████████████████████████████████████████████████████████████████████████████████████████████████████████| 37637/37637 [00:00<00:00, 162997.56it/s]\n"
     ]
    },
    {
     "name": "stdout",
     "output_type": "stream",
     "text": [
      "selected_corpus: 1114\n",
      "\n",
      "Dataset trec-covid-beir\n",
      "../sds/src/datasets/trec-covid-beir/qrels/test.tsv\n",
      "selected; 24920\n",
      "concat: 17719\n"
     ]
    },
    {
     "name": "stderr",
     "output_type": "stream",
     "text": [
      "100%|███████████████████████████████████████████████████████████████████████████████████████████████████████████████████████| 171332/171332 [00:01<00:00, 155956.96it/s]\n"
     ]
    },
    {
     "name": "stdout",
     "output_type": "stream",
     "text": [
      "selected_corpus: 17719\n",
      "\n",
      "Dataset hotpotqa\n",
      "../sds/src/datasets/hotpotqa/qrels/test.tsv\n",
      "selected; 14810\n",
      "../sds/src/datasets/hotpotqa/qrels/dev.tsv\n",
      "selected; 10894\n",
      "../sds/src/datasets/hotpotqa/qrels/train.tsv\n",
      "selected; 170000\n",
      "concat: 111140\n"
     ]
    },
    {
     "name": "stderr",
     "output_type": "stream",
     "text": [
      "100%|█████████████████████████████████████████████████████████████████████████████████████████████████████████████████████| 5233329/5233329 [00:21<00:00, 241903.69it/s]\n"
     ]
    },
    {
     "name": "stdout",
     "output_type": "stream",
     "text": [
      "selected_corpus: 111140\n",
      "\n",
      "Dataset nq\n",
      "../sds/src/datasets/nq/qrels/test.tsv\n",
      "selected; 4201\n",
      "concat: 4201\n"
     ]
    },
    {
     "name": "stderr",
     "output_type": "stream",
     "text": [
      "100%|█████████████████████████████████████████████████████████████████████████████████████████████████████████████████████| 2681468/2681468 [00:11<00:00, 234522.61it/s]\n"
     ]
    },
    {
     "name": "stdout",
     "output_type": "stream",
     "text": [
      "selected_corpus: 4201\n",
      "\n",
      "Dataset msmarco\n",
      "../sds/src/datasets/msmarco/qrels/test.tsv\n",
      "selected; 4102\n",
      "../sds/src/datasets/msmarco/qrels/dev.tsv\n",
      "selected; 7437\n",
      "../sds/src/datasets/msmarco/qrels/train.tsv\n",
      "selected; 532751\n",
      "concat: 527341\n"
     ]
    },
    {
     "name": "stderr",
     "output_type": "stream",
     "text": [
      "100%|█████████████████████████████████████████████████████████████████████████████████████████████████████████████████████| 8841823/8841823 [00:32<00:00, 270115.30it/s]\n"
     ]
    },
    {
     "name": "stdout",
     "output_type": "stream",
     "text": [
      "selected_corpus: 527341\n",
      "\n",
      "Dataset climate-fever\n",
      "../sds/src/datasets/climate-fever/qrels/test.tsv\n",
      "selected; 4681\n",
      "concat: 1344\n"
     ]
    },
    {
     "name": "stderr",
     "output_type": "stream",
     "text": [
      "100%|█████████████████████████████████████████████████████████████████████████████████████████████████████████████████████| 5416593/5416593 [00:23<00:00, 229356.65it/s]\n"
     ]
    },
    {
     "name": "stdout",
     "output_type": "stream",
     "text": [
      "selected_corpus: 1344\n",
      "\n",
      "Dataset trec-covid\n",
      "../sds/src/datasets/trec-covid/qrels/test.tsv\n",
      "selected; 24673\n",
      "concat: 17537\n"
     ]
    },
    {
     "name": "stderr",
     "output_type": "stream",
     "text": [
      "100%|███████████████████████████████████████████████████████████████████████████████████████████████████████████████████████| 171332/171332 [00:01<00:00, 155250.22it/s]\n"
     ]
    },
    {
     "name": "stdout",
     "output_type": "stream",
     "text": [
      "selected_corpus: 17537\n"
     ]
    }
   ],
   "source": [
    "import os\n",
    "import json\n",
    "import pandas as pd\n",
    "from glob import glob\n",
    "from tqdm import tqdm\n",
    "\n",
    "root = f\"../sds/src/datasets/\"\n",
    "\n",
    "for root, dirs, files in os.walk(root):\n",
    "    if \"mail\" in root or len(files) == 0 or \"train\" in root or \"german\" in root:\n",
    "        continue\n",
    "    if not files[0].endswith(\"tsv\"):\n",
    "        continue\n",
    "    dataset = root.split(\"/\")[-2]\n",
    "    print(f\"\\nDataset {dataset}\")\n",
    "    df = pd.DataFrame()\n",
    "    corpus_pth = f'{\"/\".join(root.split(\"/\")[:-1])}/corpus.jsonl'\n",
    "    selected_corpus_pth = corpus_pth.replace(\".jsonl\", \"_selected.jsonl\")\n",
    "    #if os.path.exists(selected_corpus_pth):\n",
    "    #    continue\n",
    "    \n",
    "    for file in files:\n",
    "        print(f\"{root}/{file}\")\n",
    "        df_ = pd.read_csv(f\"{root}/{file}\", sep=\"\\t\")\n",
    "        #print(\"current:\", len(df))\n",
    "        #print(\"new;\", len(df_))\n",
    "        df_ = df_[df_[\"score\"] > 0]\n",
    "        print(\"selected;\", len(df_))\n",
    "        df = pd.concat([df, df_])\n",
    "    corpus_ids = {str(i) for i in set(df[\"corpus-id\"].tolist())}\n",
    "    print(\"concat:\", len(corpus_ids))\n",
    "    with open(corpus_pth) as f:\n",
    "        corpus = [i for i in tqdm(f.readlines()) if str(json.loads(i)[\"_id\"]) in corpus_ids]\n",
    "        print(\"selected_corpus:\", len(corpus))\n",
    "    with open(selected_corpus_pth, \"w\") as f:\n",
    "        for i in corpus:\n",
    "            json.dumps(i + \"\\n\")\n",
    "\n",
    "    "
   ]
  },
  {
   "cell_type": "code",
   "execution_count": null,
   "id": "edfca8f1-8b3f-41a1-870d-a9ae6b0163b9",
   "metadata": {},
   "outputs": [],
   "source": []
  }
 ],
 "metadata": {
  "kernelspec": {
   "display_name": "Python 3 (ipykernel)",
   "language": "python",
   "name": "python3"
  },
  "language_info": {
   "codemirror_mode": {
    "name": "ipython",
    "version": 3
   },
   "file_extension": ".py",
   "mimetype": "text/x-python",
   "name": "python",
   "nbconvert_exporter": "python",
   "pygments_lexer": "ipython3",
   "version": "3.10.0"
  }
 },
 "nbformat": 4,
 "nbformat_minor": 5
}
